{
 "cells": [
  {
   "cell_type": "markdown",
   "metadata": {},
   "source": [
    "## WeRateDogs Data Analysis\n",
    "#### by Cagri Aslanbas\n",
    "\n",
    "\n",
    "\n",
    "There is one of the cutest Twitter account on the Internet, called WeRateDogs (@dog_rates). This account is famous by bringing together the dogs all around the world by their ratings, which are given in a humorous manner. The funniness of rating system tells by itself, mostly having larger values than its denominator 10. I have wrangled the tweets of this Twitter account and some other data and come up with some insights."
   ]
  },
  {
   "cell_type": "markdown",
   "metadata": {},
   "source": [
    "I've used three files for the wrangling. First one is the WeRateDogs Twitter archive provided by Udacity, which contains all of the tweets of WeRateDogs Twitter account. Second one is the dog breed prediction results created by Udacity, which uses the images in the Twitter account and predicts their breed by using neutral network. The third one is the retweet counts and the favourite counts of the WeRateDogs tweets, which are gathered by myself using the Twitter API python package called tweepy."
   ]
  },
  {
   "cell_type": "markdown",
   "metadata": {},
   "source": [
    "Dog are separated into various stages such as pupper, doggo, puppo, floof, blep etc. The first thing came into my mind after wrangling is to analyze the variations of the dog stages in these tweets. Excluding the None values, I've discovered the most common dog stage is pupper, being more than the sum of remaining 3 stages."
   ]
  },
  {
   "cell_type": "code",
   "execution_count": 7,
   "metadata": {},
   "outputs": [
    {
     "data": {
      "text/plain": [
       "None       1760\n",
       "pupper      222\n",
       "doggo        84\n",
       "puppo        23\n",
       "floofer       9\n",
       "Name: stage, dtype: int64"
      ]
     },
     "execution_count": 7,
     "metadata": {},
     "output_type": "execute_result"
    }
   ],
   "source": [
    "tw.stage.value_counts()"
   ]
  },
  {
   "cell_type": "markdown",
   "metadata": {},
   "source": [
    "I was also curious about the majority of the dog breeds show up on WeRateDogs. The data shows that the most common three dog breeds are golden retriever, labrador retriever and pembroke, respectively."
   ]
  },
  {
   "cell_type": "code",
   "execution_count": 9,
   "metadata": {},
   "outputs": [
    {
     "data": {
      "text/plain": [
       "golden_retriever      150\n",
       "labrador_retriever    100\n",
       "pembroke               89\n",
       "Name: p1, dtype: int64"
      ]
     },
     "execution_count": 9,
     "metadata": {},
     "output_type": "execute_result"
    }
   ],
   "source": [
    "im.query('p1_dog == True').p1.value_counts()[0:3]"
   ]
  },
  {
   "cell_type": "markdown",
   "metadata": {},
   "source": [
    "As we all know, all of the dogs from whole around the worlds are equally beautiful. Therefore if we rate these dogs in a serious manner, they've all get 10 points. But as I've said, WeRateDogs uses a humorous rating system having a denominator of 10, which is mostly exceeded. I wondered the variance of these ratings and plotted the histogram. As can be seen below, the most popular rating numerator for the dog tweets are 12, 10, 11, respectively."
   ]
  },
  {
   "cell_type": "code",
   "execution_count": 12,
   "metadata": {},
   "outputs": [
    {
     "data": {
      "image/png": "[encoded data removed]",
      "text/plain": [
       "<matplotlib.figure.Figure at 0x7ff85dc5fdd8>"
      ]
     },
     "metadata": {},
     "output_type": "display_data"
    }
   ],
   "source": [
    "tw['rating_numerator'].plot.hist(bins=3000, xlim=(0,15), title='Rating Numerator Histogram');"
   ]
  }
 ],
 "metadata": {
  "kernelspec": {
   "display_name": "Python [conda env:py3.6]",
   "language": "python",
   "name": "conda-env-py3.6-py"
  },
  "language_info": {
   "codemirror_mode": {
    "name": "ipython",
    "version": 3
   },
   "file_extension": ".py",
   "mimetype": "text/x-python",
   "name": "python",
   "nbconvert_exporter": "python",
   "pygments_lexer": "ipython3",
   "version": "3.6.4"
  }
 },
 "nbformat": 4,
 "nbformat_minor": 2
}
