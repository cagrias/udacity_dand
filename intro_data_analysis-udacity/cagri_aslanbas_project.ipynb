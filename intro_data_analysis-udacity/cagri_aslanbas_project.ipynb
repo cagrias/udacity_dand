{
 "cells": [
  {
   "cell_type": "markdown",
   "metadata": {},
   "source": [
    "#### Student Name: Cagri Aslanbas\n",
    "# Project: Investigation of TMDb Movie Data Set\n",
    "\n",
    "## Table of Contents\n",
    "<ul>\n",
    "<li><a href=\"#intro\">Introduction</a></li>\n",
    "<li><a href=\"#wrangling\">Data Wrangling</a></li>\n",
    "<li><a href=\"#cleaning\">Cleaning</a></li>\n",
    "<li><a href=\"#eda\">Exploratory Data Analysis</a></li>\n",
    "<li><a href=\"#conclusions\">Conclusions</a></li>\n",
    "</ul>"
   ]
  },
  {
   "cell_type": "markdown",
   "metadata": {},
   "source": [
    "<a id='intro'></a>\n",
    "## Introduction\n",
    "\n",
    "> This Jupyter Notebook document explores The Movie Database (TMDb) data set. It scrutinizes the correlation between movies' vote averages and other factors between each other such as its genre, revenue etc.\n",
    ">\n",
    "> Vote average variable of the movies will be the dependent variable and genres, revenue and release years will be the indepentent variables of this study.\n",
    ">\n",
    "> NOTE: We will use revenue_adj column for our studies as this variable is in terms of 2010 dollars, accounting for inflation over time, which is more comparable."
   ]
  },
  {
   "cell_type": "code",
   "execution_count": 1,
   "metadata": {},
   "outputs": [],
   "source": [
    "# import the libraries that will be used\n",
    "import numpy as np\n",
    "import pandas as pd\n",
    "import matplotlib.pyplot as plt\n",
    "import seaborn as sns\n",
    "\n",
    "%matplotlib inline"
   ]
  },
  {
   "cell_type": "markdown",
   "metadata": {},
   "source": [
    "<a id='wrangling'></a>\n",
    "## Data Wrangling\n",
    "\n",
    "> In this section, we will have a look at the raw TMDb data and shape it into a form such that it will have the relevant data that will be needed in our analysis only.\n",
    ">\n",
    "> Colunms that won't be used will be trimmed in this section.\n",
    "\n",
    "### General Properties:"
   ]
  },
  {
   "cell_type": "code",
   "execution_count": 2,
   "metadata": {},
   "outputs": [
    {
     "name": "stdout",
     "output_type": "stream",
     "text": [
      "<class 'pandas.core.frame.DataFrame'>\n",
      "RangeIndex: 10866 entries, 0 to 10865\n",
      "Data columns (total 21 columns):\n",
      "id                      10866 non-null int64\n",
      "imdb_id                 10856 non-null object\n",
      "popularity              10866 non-null float64\n",
      "budget                  10866 non-null int64\n",
      "revenue                 10866 non-null int64\n",
      "original_title          10866 non-null object\n",
      "cast                    10790 non-null object\n",
      "homepage                2936 non-null object\n",
      "director                10822 non-null object\n",
      "tagline                 8042 non-null object\n",
      "keywords                9373 non-null object\n",
      "overview                10862 non-null object\n",
      "runtime                 10866 non-null int64\n",
      "genres                  10843 non-null object\n",
      "production_companies    9836 non-null object\n",
      "release_date            10866 non-null object\n",
      "vote_count              10866 non-null int64\n",
      "vote_average            10866 non-null float64\n",
      "release_year            10866 non-null int64\n",
      "budget_adj              10866 non-null float64\n",
      "revenue_adj             10866 non-null float64\n",
      "dtypes: float64(4), int64(6), object(11)\n",
      "memory usage: 1.7+ MB\n"
     ]
    }
   ],
   "source": [
    "# read the TMDb csv file\n",
    "df = pd.read_csv(\"tmdb-movies.csv\")\n",
    "df.info()"
   ]
  },
  {
   "cell_type": "markdown",
   "metadata": {},
   "source": [
    "### Trimming columns that will not be used:\n",
    "\n",
    "> This study will get use of columns vote_average (dependant variable), revenue_adj, release_year and genres (independent variables) for exploration. We will also need the original_title, id and vote_count columns for clear identification of the movies.\n",
    ">\n",
    "> Therefore, other columns will be dropped before data cleaning."
   ]
  },
  {
   "cell_type": "code",
   "execution_count": 3,
   "metadata": {},
   "outputs": [
    {
     "name": "stdout",
     "output_type": "stream",
     "text": [
      "<class 'pandas.core.frame.DataFrame'>\n",
      "RangeIndex: 10866 entries, 0 to 10865\n",
      "Data columns (total 7 columns):\n",
      "id                10866 non-null int64\n",
      "original_title    10866 non-null object\n",
      "genres            10843 non-null object\n",
      "vote_count        10866 non-null int64\n",
      "vote_average      10866 non-null float64\n",
      "release_year      10866 non-null int64\n",
      "revenue_adj       10866 non-null float64\n",
      "dtypes: float64(2), int64(3), object(2)\n",
      "memory usage: 594.3+ KB\n"
     ]
    }
   ],
   "source": [
    "# dropping redundant columns\n",
    "df.drop(['popularity', 'budget', 'revenue', 'runtime', 'budget_adj', 'director', 'cast', 'keywords', 'release_date', 'homepage', 'imdb_id', 'tagline', 'overview', 'production_companies'], axis=1, inplace=True)\n",
    "df.info()"
   ]
  },
  {
   "cell_type": "markdown",
   "metadata": {},
   "source": [
    "> We can see that there are 10866 rows. Except genres column, none of the columns have null values. We need to drop the rows that has null genres value as we cannot replace null genres values with something else (it is not a measurable variable)."
   ]
  },
  {
   "cell_type": "code",
   "execution_count": 4,
   "metadata": {
    "scrolled": true
   },
   "outputs": [
    {
     "name": "stdout",
     "output_type": "stream",
     "text": [
      "<class 'pandas.core.frame.DataFrame'>\n",
      "Int64Index: 10843 entries, 0 to 10865\n",
      "Data columns (total 7 columns):\n",
      "id                10843 non-null int64\n",
      "original_title    10843 non-null object\n",
      "genres            10843 non-null object\n",
      "vote_count        10843 non-null int64\n",
      "vote_average      10843 non-null float64\n",
      "release_year      10843 non-null int64\n",
      "revenue_adj       10843 non-null float64\n",
      "dtypes: float64(2), int64(3), object(2)\n",
      "memory usage: 677.7+ KB\n"
     ]
    }
   ],
   "source": [
    "# drop rows with null values\n",
    "df.dropna(how='any', axis=0, inplace=True)\n",
    "df.info()"
   ]
  },
  {
   "cell_type": "markdown",
   "metadata": {},
   "source": [
    "<a id='cleaning'></a>\n",
    "## Cleaning\n",
    "\n",
    "> In this section, we will clean the cells that are null or zero and also irreplaceable. \n",
    ">\n",
    ">  In the end, we will make sure we have meaningful data in each movie entry."
   ]
  },
  {
   "cell_type": "code",
   "execution_count": 5,
   "metadata": {
    "scrolled": false
   },
   "outputs": [
    {
     "data": {
      "text/html": [
       "<div>\n",
       "<style scoped>\n",
       "    .dataframe tbody tr th:only-of-type {\n",
       "        vertical-align: middle;\n",
       "    }\n",
       "\n",
       "    .dataframe tbody tr th {\n",
       "        vertical-align: top;\n",
       "    }\n",
       "\n",
       "    .dataframe thead th {\n",
       "        text-align: right;\n",
       "    }\n",
       "</style>\n",
       "<table border=\"1\" class=\"dataframe\">\n",
       "  <thead>\n",
       "    <tr style=\"text-align: right;\">\n",
       "      <th></th>\n",
       "      <th>id</th>\n",
       "      <th>vote_count</th>\n",
       "      <th>vote_average</th>\n",
       "      <th>release_year</th>\n",
       "      <th>revenue_adj</th>\n",
       "    </tr>\n",
       "  </thead>\n",
       "  <tbody>\n",
       "    <tr>\n",
       "      <th>count</th>\n",
       "      <td>10843.000000</td>\n",
       "      <td>10843.000000</td>\n",
       "      <td>10843.000000</td>\n",
       "      <td>10843.000000</td>\n",
       "      <td>1.084300e+04</td>\n",
       "    </tr>\n",
       "    <tr>\n",
       "      <th>mean</th>\n",
       "      <td>65868.491930</td>\n",
       "      <td>217.813705</td>\n",
       "      <td>5.973974</td>\n",
       "      <td>2001.315595</td>\n",
       "      <td>5.147332e+07</td>\n",
       "    </tr>\n",
       "    <tr>\n",
       "      <th>std</th>\n",
       "      <td>91977.394803</td>\n",
       "      <td>576.155351</td>\n",
       "      <td>0.934260</td>\n",
       "      <td>12.813298</td>\n",
       "      <td>1.447664e+08</td>\n",
       "    </tr>\n",
       "    <tr>\n",
       "      <th>min</th>\n",
       "      <td>5.000000</td>\n",
       "      <td>10.000000</td>\n",
       "      <td>1.500000</td>\n",
       "      <td>1960.000000</td>\n",
       "      <td>0.000000e+00</td>\n",
       "    </tr>\n",
       "    <tr>\n",
       "      <th>25%</th>\n",
       "      <td>10589.500000</td>\n",
       "      <td>17.000000</td>\n",
       "      <td>5.400000</td>\n",
       "      <td>1995.000000</td>\n",
       "      <td>0.000000e+00</td>\n",
       "    </tr>\n",
       "    <tr>\n",
       "      <th>50%</th>\n",
       "      <td>20558.000000</td>\n",
       "      <td>38.000000</td>\n",
       "      <td>6.000000</td>\n",
       "      <td>2006.000000</td>\n",
       "      <td>0.000000e+00</td>\n",
       "    </tr>\n",
       "    <tr>\n",
       "      <th>75%</th>\n",
       "      <td>75182.000000</td>\n",
       "      <td>146.000000</td>\n",
       "      <td>6.600000</td>\n",
       "      <td>2011.000000</td>\n",
       "      <td>3.387655e+07</td>\n",
       "    </tr>\n",
       "    <tr>\n",
       "      <th>max</th>\n",
       "      <td>417859.000000</td>\n",
       "      <td>9767.000000</td>\n",
       "      <td>9.200000</td>\n",
       "      <td>2015.000000</td>\n",
       "      <td>2.827124e+09</td>\n",
       "    </tr>\n",
       "  </tbody>\n",
       "</table>\n",
       "</div>"
      ],
      "text/plain": [
       "                  id    vote_count  vote_average  release_year   revenue_adj\n",
       "count   10843.000000  10843.000000  10843.000000  10843.000000  1.084300e+04\n",
       "mean    65868.491930    217.813705      5.973974   2001.315595  5.147332e+07\n",
       "std     91977.394803    576.155351      0.934260     12.813298  1.447664e+08\n",
       "min         5.000000     10.000000      1.500000   1960.000000  0.000000e+00\n",
       "25%     10589.500000     17.000000      5.400000   1995.000000  0.000000e+00\n",
       "50%     20558.000000     38.000000      6.000000   2006.000000  0.000000e+00\n",
       "75%     75182.000000    146.000000      6.600000   2011.000000  3.387655e+07\n",
       "max    417859.000000   9767.000000      9.200000   2015.000000  2.827124e+09"
      ]
     },
     "execution_count": 5,
     "metadata": {},
     "output_type": "execute_result"
    }
   ],
   "source": [
    "df.describe()"
   ]
  },
  {
   "cell_type": "markdown",
   "metadata": {},
   "source": [
    "> In order to make a fair analysis, movies that have low number of vote_counts need to be eliminated. In the next step, I will dig deep into the vote_count column and drop some movies that have vote counts under a certain threshold. To do that lets start with the histogram of the vote_counts (<a href=\"https://stackoverflow.com/a/47036802/4665915\">Stackoverflow source</a>):"
   ]
  },
  {
   "cell_type": "code",
   "execution_count": 6,
   "metadata": {
    "scrolled": true
   },
   "outputs": [
    {
     "data": {
      "image/png": "[encoded data removed]",
      "text/plain": [
       "<matplotlib.figure.Figure at 0x7fcbbbcff978>"
      ]
     },
     "metadata": {},
     "output_type": "display_data"
    }
   ],
   "source": [
    "df['vote_count'].plot(kind='hist',subplots=True,sharex=True,sharey=True,title='Vote Counts Histogram');"
   ]
  },
  {
   "cell_type": "markdown",
   "metadata": {},
   "source": [
    "> Let's split the movies into two groups: movies that has total vote count under the mean value (which is 217) and over the mean value. And see both of these data frames correlation to the vote_average."
   ]
  },
  {
   "cell_type": "code",
   "execution_count": 7,
   "metadata": {
    "scrolled": true
   },
   "outputs": [
    {
     "data": {
      "image/png": "[encoded data removed]",
      "text/plain": [
       "<matplotlib.figure.Figure at 0x7fcbbbd60a20>"
      ]
     },
     "metadata": {},
     "output_type": "display_data"
    },
    {
     "data": {
      "image/png": "[encoded data removed]",
      "text/plain": [
       "<matplotlib.figure.Figure at 0x7fcbbaf9ab00>"
      ]
     },
     "metadata": {},
     "output_type": "display_data"
    }
   ],
   "source": [
    "df_low_vote_counts = df.query('vote_count <= 217');\n",
    "df_high_vote_counts = df.query('vote_count > 217');\n",
    "df_low_vote_counts.plot(x = 'vote_count', y = 'vote_average', kind='scatter', figsize=(8,8));\n",
    "df_high_vote_counts.plot(x = 'vote_count', y = 'vote_average', kind='scatter', figsize=(8,8));"
   ]
  },
  {
   "cell_type": "markdown",
   "metadata": {},
   "source": [
    "> When these two graphs are compared, it's obvious that the vote average of movies having vote counts less than 25-30 do not have a meaningful pattern as low vote counts can shape the vote average dramatically. Therefore we can drop the movies with vote counts less than 30."
   ]
  },
  {
   "cell_type": "code",
   "execution_count": 8,
   "metadata": {},
   "outputs": [
    {
     "name": "stdout",
     "output_type": "stream",
     "text": [
      "<class 'pandas.core.frame.DataFrame'>\n",
      "Int64Index: 6142 entries, 0 to 10848\n",
      "Data columns (total 7 columns):\n",
      "id                6142 non-null int64\n",
      "original_title    6142 non-null object\n",
      "genres            6142 non-null object\n",
      "vote_count        6142 non-null int64\n",
      "vote_average      6142 non-null float64\n",
      "release_year      6142 non-null int64\n",
      "revenue_adj       6142 non-null float64\n",
      "dtypes: float64(2), int64(3), object(2)\n",
      "memory usage: 383.9+ KB\n"
     ]
    }
   ],
   "source": [
    "df = df.query('vote_count >= 30')\n",
    "df.info()"
   ]
  },
  {
   "cell_type": "code",
   "execution_count": 9,
   "metadata": {
    "scrolled": false
   },
   "outputs": [
    {
     "data": {
      "text/html": [
       "<div>\n",
       "<style scoped>\n",
       "    .dataframe tbody tr th:only-of-type {\n",
       "        vertical-align: middle;\n",
       "    }\n",
       "\n",
       "    .dataframe tbody tr th {\n",
       "        vertical-align: top;\n",
       "    }\n",
       "\n",
       "    .dataframe thead th {\n",
       "        text-align: right;\n",
       "    }\n",
       "</style>\n",
       "<table border=\"1\" class=\"dataframe\">\n",
       "  <thead>\n",
       "    <tr style=\"text-align: right;\">\n",
       "      <th></th>\n",
       "      <th>id</th>\n",
       "      <th>original_title</th>\n",
       "      <th>genres</th>\n",
       "      <th>vote_count</th>\n",
       "      <th>vote_average</th>\n",
       "      <th>release_year</th>\n",
       "      <th>revenue_adj</th>\n",
       "    </tr>\n",
       "  </thead>\n",
       "  <tbody>\n",
       "    <tr>\n",
       "      <th>0</th>\n",
       "      <td>135397</td>\n",
       "      <td>Jurassic World</td>\n",
       "      <td>Action|Adventure|Science Fiction|Thriller</td>\n",
       "      <td>5562</td>\n",
       "      <td>6.5</td>\n",
       "      <td>2015</td>\n",
       "      <td>1.392446e+09</td>\n",
       "    </tr>\n",
       "    <tr>\n",
       "      <th>1</th>\n",
       "      <td>76341</td>\n",
       "      <td>Mad Max: Fury Road</td>\n",
       "      <td>Action|Adventure|Science Fiction|Thriller</td>\n",
       "      <td>6185</td>\n",
       "      <td>7.1</td>\n",
       "      <td>2015</td>\n",
       "      <td>3.481613e+08</td>\n",
       "    </tr>\n",
       "    <tr>\n",
       "      <th>2</th>\n",
       "      <td>262500</td>\n",
       "      <td>Insurgent</td>\n",
       "      <td>Adventure|Science Fiction|Thriller</td>\n",
       "      <td>2480</td>\n",
       "      <td>6.3</td>\n",
       "      <td>2015</td>\n",
       "      <td>2.716190e+08</td>\n",
       "    </tr>\n",
       "    <tr>\n",
       "      <th>3</th>\n",
       "      <td>140607</td>\n",
       "      <td>Star Wars: The Force Awakens</td>\n",
       "      <td>Action|Adventure|Science Fiction|Fantasy</td>\n",
       "      <td>5292</td>\n",
       "      <td>7.5</td>\n",
       "      <td>2015</td>\n",
       "      <td>1.902723e+09</td>\n",
       "    </tr>\n",
       "    <tr>\n",
       "      <th>4</th>\n",
       "      <td>168259</td>\n",
       "      <td>Furious 7</td>\n",
       "      <td>Action|Crime|Thriller</td>\n",
       "      <td>2947</td>\n",
       "      <td>7.3</td>\n",
       "      <td>2015</td>\n",
       "      <td>1.385749e+09</td>\n",
       "    </tr>\n",
       "    <tr>\n",
       "      <th>5</th>\n",
       "      <td>281957</td>\n",
       "      <td>The Revenant</td>\n",
       "      <td>Western|Drama|Adventure|Thriller</td>\n",
       "      <td>3929</td>\n",
       "      <td>7.2</td>\n",
       "      <td>2015</td>\n",
       "      <td>4.903142e+08</td>\n",
       "    </tr>\n",
       "    <tr>\n",
       "      <th>6</th>\n",
       "      <td>87101</td>\n",
       "      <td>Terminator Genisys</td>\n",
       "      <td>Science Fiction|Action|Thriller|Adventure</td>\n",
       "      <td>2598</td>\n",
       "      <td>5.8</td>\n",
       "      <td>2015</td>\n",
       "      <td>4.053551e+08</td>\n",
       "    </tr>\n",
       "    <tr>\n",
       "      <th>7</th>\n",
       "      <td>286217</td>\n",
       "      <td>The Martian</td>\n",
       "      <td>Drama|Adventure|Science Fiction</td>\n",
       "      <td>4572</td>\n",
       "      <td>7.6</td>\n",
       "      <td>2015</td>\n",
       "      <td>5.477497e+08</td>\n",
       "    </tr>\n",
       "    <tr>\n",
       "      <th>8</th>\n",
       "      <td>211672</td>\n",
       "      <td>Minions</td>\n",
       "      <td>Family|Animation|Adventure|Comedy</td>\n",
       "      <td>2893</td>\n",
       "      <td>6.5</td>\n",
       "      <td>2015</td>\n",
       "      <td>1.064192e+09</td>\n",
       "    </tr>\n",
       "    <tr>\n",
       "      <th>9</th>\n",
       "      <td>150540</td>\n",
       "      <td>Inside Out</td>\n",
       "      <td>Comedy|Animation|Family</td>\n",
       "      <td>3935</td>\n",
       "      <td>8.0</td>\n",
       "      <td>2015</td>\n",
       "      <td>7.854116e+08</td>\n",
       "    </tr>\n",
       "  </tbody>\n",
       "</table>\n",
       "</div>"
      ],
      "text/plain": [
       "       id                original_title  \\\n",
       "0  135397                Jurassic World   \n",
       "1   76341            Mad Max: Fury Road   \n",
       "2  262500                     Insurgent   \n",
       "3  140607  Star Wars: The Force Awakens   \n",
       "4  168259                     Furious 7   \n",
       "5  281957                  The Revenant   \n",
       "6   87101            Terminator Genisys   \n",
       "7  286217                   The Martian   \n",
       "8  211672                       Minions   \n",
       "9  150540                    Inside Out   \n",
       "\n",
       "                                      genres  vote_count  vote_average  \\\n",
       "0  Action|Adventure|Science Fiction|Thriller        5562           6.5   \n",
       "1  Action|Adventure|Science Fiction|Thriller        6185           7.1   \n",
       "2         Adventure|Science Fiction|Thriller        2480           6.3   \n",
       "3   Action|Adventure|Science Fiction|Fantasy        5292           7.5   \n",
       "4                      Action|Crime|Thriller        2947           7.3   \n",
       "5           Western|Drama|Adventure|Thriller        3929           7.2   \n",
       "6  Science Fiction|Action|Thriller|Adventure        2598           5.8   \n",
       "7            Drama|Adventure|Science Fiction        4572           7.6   \n",
       "8          Family|Animation|Adventure|Comedy        2893           6.5   \n",
       "9                    Comedy|Animation|Family        3935           8.0   \n",
       "\n",
       "   release_year   revenue_adj  \n",
       "0          2015  1.392446e+09  \n",
       "1          2015  3.481613e+08  \n",
       "2          2015  2.716190e+08  \n",
       "3          2015  1.902723e+09  \n",
       "4          2015  1.385749e+09  \n",
       "5          2015  4.903142e+08  \n",
       "6          2015  4.053551e+08  \n",
       "7          2015  5.477497e+08  \n",
       "8          2015  1.064192e+09  \n",
       "9          2015  7.854116e+08  "
      ]
     },
     "execution_count": 9,
     "metadata": {},
     "output_type": "execute_result"
    }
   ],
   "source": [
    "# lets see the first 10 rows\n",
    "df.head(10)"
   ]
  },
  {
   "cell_type": "markdown",
   "metadata": {},
   "source": [
    "> Finally, we need to drop the duplicate values if any."
   ]
  },
  {
   "cell_type": "code",
   "execution_count": 10,
   "metadata": {},
   "outputs": [
    {
     "data": {
      "text/plain": [
       "1"
      ]
     },
     "execution_count": 10,
     "metadata": {},
     "output_type": "execute_result"
    }
   ],
   "source": [
    "sum(df.duplicated())"
   ]
  },
  {
   "cell_type": "code",
   "execution_count": 11,
   "metadata": {},
   "outputs": [
    {
     "data": {
      "text/plain": [
       "0"
      ]
     },
     "execution_count": 11,
     "metadata": {},
     "output_type": "execute_result"
    }
   ],
   "source": [
    "df.drop_duplicates(inplace=True)\n",
    "sum(df.duplicated())"
   ]
  },
  {
   "cell_type": "markdown",
   "metadata": {},
   "source": [
    "<a id='eda'></a>\n",
    "## Exploratory Data Analysis\n",
    "\n",
    "#### In this section, we will try to find answers to two questions:\n",
    "<ol>\n",
    "  <li>Which genres has the highest average of votes from year to year in 2000s?</li>\n",
    "  <li>Is there any relation between the movies' vote average and revenue in terms of 2010 dollars?</li>\n",
    "</ol>"
   ]
  },
  {
   "cell_type": "markdown",
   "metadata": {},
   "source": [
    "##### 1. Which genres has the highest average of votes from year to year in 2000s?\n",
    "\n",
    "> This question requires a multiple-variable (2d) exploration, which consists of a correlation between our dependant variable vote_average and two independant variables release_year and genres."
   ]
  },
  {
   "cell_type": "code",
   "execution_count": 12,
   "metadata": {
    "scrolled": true
   },
   "outputs": [
    {
     "data": {
      "text/html": [
       "<div>\n",
       "<style scoped>\n",
       "    .dataframe tbody tr th:only-of-type {\n",
       "        vertical-align: middle;\n",
       "    }\n",
       "\n",
       "    .dataframe tbody tr th {\n",
       "        vertical-align: top;\n",
       "    }\n",
       "\n",
       "    .dataframe thead th {\n",
       "        text-align: right;\n",
       "    }\n",
       "</style>\n",
       "<table border=\"1\" class=\"dataframe\">\n",
       "  <thead>\n",
       "    <tr style=\"text-align: right;\">\n",
       "      <th></th>\n",
       "      <th>id</th>\n",
       "      <th>original_title</th>\n",
       "      <th>genres</th>\n",
       "      <th>vote_count</th>\n",
       "      <th>vote_average</th>\n",
       "      <th>release_year</th>\n",
       "      <th>revenue_adj</th>\n",
       "    </tr>\n",
       "  </thead>\n",
       "  <tbody>\n",
       "    <tr>\n",
       "      <th>0</th>\n",
       "      <td>135397</td>\n",
       "      <td>Jurassic World</td>\n",
       "      <td>Action|Adventure|Science Fiction|Thriller</td>\n",
       "      <td>5562</td>\n",
       "      <td>6.5</td>\n",
       "      <td>2015</td>\n",
       "      <td>1.392446e+09</td>\n",
       "    </tr>\n",
       "    <tr>\n",
       "      <th>1</th>\n",
       "      <td>76341</td>\n",
       "      <td>Mad Max: Fury Road</td>\n",
       "      <td>Action|Adventure|Science Fiction|Thriller</td>\n",
       "      <td>6185</td>\n",
       "      <td>7.1</td>\n",
       "      <td>2015</td>\n",
       "      <td>3.481613e+08</td>\n",
       "    </tr>\n",
       "    <tr>\n",
       "      <th>2</th>\n",
       "      <td>262500</td>\n",
       "      <td>Insurgent</td>\n",
       "      <td>Adventure|Science Fiction|Thriller</td>\n",
       "      <td>2480</td>\n",
       "      <td>6.3</td>\n",
       "      <td>2015</td>\n",
       "      <td>2.716190e+08</td>\n",
       "    </tr>\n",
       "    <tr>\n",
       "      <th>3</th>\n",
       "      <td>140607</td>\n",
       "      <td>Star Wars: The Force Awakens</td>\n",
       "      <td>Action|Adventure|Science Fiction|Fantasy</td>\n",
       "      <td>5292</td>\n",
       "      <td>7.5</td>\n",
       "      <td>2015</td>\n",
       "      <td>1.902723e+09</td>\n",
       "    </tr>\n",
       "    <tr>\n",
       "      <th>4</th>\n",
       "      <td>168259</td>\n",
       "      <td>Furious 7</td>\n",
       "      <td>Action|Crime|Thriller</td>\n",
       "      <td>2947</td>\n",
       "      <td>7.3</td>\n",
       "      <td>2015</td>\n",
       "      <td>1.385749e+09</td>\n",
       "    </tr>\n",
       "    <tr>\n",
       "      <th>5</th>\n",
       "      <td>281957</td>\n",
       "      <td>The Revenant</td>\n",
       "      <td>Western|Drama|Adventure|Thriller</td>\n",
       "      <td>3929</td>\n",
       "      <td>7.2</td>\n",
       "      <td>2015</td>\n",
       "      <td>4.903142e+08</td>\n",
       "    </tr>\n",
       "    <tr>\n",
       "      <th>6</th>\n",
       "      <td>87101</td>\n",
       "      <td>Terminator Genisys</td>\n",
       "      <td>Science Fiction|Action|Thriller|Adventure</td>\n",
       "      <td>2598</td>\n",
       "      <td>5.8</td>\n",
       "      <td>2015</td>\n",
       "      <td>4.053551e+08</td>\n",
       "    </tr>\n",
       "    <tr>\n",
       "      <th>7</th>\n",
       "      <td>286217</td>\n",
       "      <td>The Martian</td>\n",
       "      <td>Drama|Adventure|Science Fiction</td>\n",
       "      <td>4572</td>\n",
       "      <td>7.6</td>\n",
       "      <td>2015</td>\n",
       "      <td>5.477497e+08</td>\n",
       "    </tr>\n",
       "    <tr>\n",
       "      <th>8</th>\n",
       "      <td>211672</td>\n",
       "      <td>Minions</td>\n",
       "      <td>Family|Animation|Adventure|Comedy</td>\n",
       "      <td>2893</td>\n",
       "      <td>6.5</td>\n",
       "      <td>2015</td>\n",
       "      <td>1.064192e+09</td>\n",
       "    </tr>\n",
       "    <tr>\n",
       "      <th>9</th>\n",
       "      <td>150540</td>\n",
       "      <td>Inside Out</td>\n",
       "      <td>Comedy|Animation|Family</td>\n",
       "      <td>3935</td>\n",
       "      <td>8.0</td>\n",
       "      <td>2015</td>\n",
       "      <td>7.854116e+08</td>\n",
       "    </tr>\n",
       "  </tbody>\n",
       "</table>\n",
       "</div>"
      ],
      "text/plain": [
       "       id                original_title  \\\n",
       "0  135397                Jurassic World   \n",
       "1   76341            Mad Max: Fury Road   \n",
       "2  262500                     Insurgent   \n",
       "3  140607  Star Wars: The Force Awakens   \n",
       "4  168259                     Furious 7   \n",
       "5  281957                  The Revenant   \n",
       "6   87101            Terminator Genisys   \n",
       "7  286217                   The Martian   \n",
       "8  211672                       Minions   \n",
       "9  150540                    Inside Out   \n",
       "\n",
       "                                      genres  vote_count  vote_average  \\\n",
       "0  Action|Adventure|Science Fiction|Thriller        5562           6.5   \n",
       "1  Action|Adventure|Science Fiction|Thriller        6185           7.1   \n",
       "2         Adventure|Science Fiction|Thriller        2480           6.3   \n",
       "3   Action|Adventure|Science Fiction|Fantasy        5292           7.5   \n",
       "4                      Action|Crime|Thriller        2947           7.3   \n",
       "5           Western|Drama|Adventure|Thriller        3929           7.2   \n",
       "6  Science Fiction|Action|Thriller|Adventure        2598           5.8   \n",
       "7            Drama|Adventure|Science Fiction        4572           7.6   \n",
       "8          Family|Animation|Adventure|Comedy        2893           6.5   \n",
       "9                    Comedy|Animation|Family        3935           8.0   \n",
       "\n",
       "   release_year   revenue_adj  \n",
       "0          2015  1.392446e+09  \n",
       "1          2015  3.481613e+08  \n",
       "2          2015  2.716190e+08  \n",
       "3          2015  1.902723e+09  \n",
       "4          2015  1.385749e+09  \n",
       "5          2015  4.903142e+08  \n",
       "6          2015  4.053551e+08  \n",
       "7          2015  5.477497e+08  \n",
       "8          2015  1.064192e+09  \n",
       "9          2015  7.854116e+08  "
      ]
     },
     "execution_count": 12,
     "metadata": {},
     "output_type": "execute_result"
    }
   ],
   "source": [
    "df.head(10)"
   ]
  },
  {
   "cell_type": "markdown",
   "metadata": {},
   "source": [
    "> Movies mostly have more than one genres splitted with the pipe delimiter \"|\" character. We need to create duplicates of each movie by the number of genre type it has. Then split the genres and spread them into each duplicate movie it belongs.\n",
    ">\n",
    "> For example for the movie \"Jurassic World\" (id:135397), it has 4 genres, namely \"Action|Adventure|Science Fiction|Thriller\". We need to create 4 duplicates of \"Jurassic Park\" and assign Action, Adventure, Science Fiction and Thriller to each of its genre, separately.\n",
    ">\n",
    "> Let's see how many movies have multiple genres:"
   ]
  },
  {
   "cell_type": "code",
   "execution_count": 13,
   "metadata": {
    "scrolled": true
   },
   "outputs": [
    {
     "name": "stdout",
     "output_type": "stream",
     "text": [
      "(5052, 7)\n",
      "(6141, 7)\n"
     ]
    }
   ],
   "source": [
    "# see how many movies have multiple genres\n",
    "multiple_genres = df[df['genres'].str.contains(\"\\|\")]\n",
    "print(multiple_genres.shape);\n",
    "print(df.shape);"
   ]
  },
  {
   "cell_type": "markdown",
   "metadata": {},
   "source": [
    "> Okay, 4169 of our total 5035 movies have multiple genres. Another tricky part is that the number of genre types for each movie is not static, it differs from one movie to another.\n",
    ">\n",
    "> Since the number of genres each movie has is dynamic, I have searched a way to do it from Stackoverflow and found a function that solves this problem (<a href=\"https://stackoverflow.com/a/39946744/4665915\">Stackoverflow source</a>):"
   ]
  },
  {
   "cell_type": "code",
   "execution_count": 14,
   "metadata": {},
   "outputs": [],
   "source": [
    "def tidy_split(df, column, sep='|', keep=False):\n",
    "    \"\"\"\n",
    "    Split the values of a column and expand so the new DataFrame has one split\n",
    "    value per row. Filters rows where the column is missing.\n",
    "\n",
    "    Params\n",
    "    ------\n",
    "    df : pandas.DataFrame\n",
    "        dataframe with the column to split and expand\n",
    "    column : str\n",
    "        the column to split and expand\n",
    "    sep : str\n",
    "        the string used to split the column's values\n",
    "    keep : bool\n",
    "        whether to retain the presplit value as it's own row\n",
    "\n",
    "    Returns\n",
    "    -------\n",
    "    pandas.DataFrame\n",
    "        Returns a dataframe with the same columns as `df`.\n",
    "    \"\"\"\n",
    "    indexes = list()\n",
    "    new_values = list()\n",
    "    df = df.dropna(subset=[column])\n",
    "    for i, presplit in enumerate(df[column].astype(str)):\n",
    "        values = presplit.split(sep)\n",
    "        if keep and len(values) > 1:\n",
    "            indexes.append(i)\n",
    "            new_values.append(presplit)\n",
    "        for value in values:\n",
    "            indexes.append(i)\n",
    "            new_values.append(value)\n",
    "    new_df = df.iloc[indexes, :].copy()\n",
    "    new_df[column] = new_values\n",
    "    return new_df"
   ]
  },
  {
   "cell_type": "markdown",
   "metadata": {},
   "source": [
    "> Firstly, I created a copy of our dataframe, named df_genres_ops. By using tidy_split function I did split each genre and assign to its corresponding duplicate movie row, named the result as multiple_genres_separated. \n",
    ">\n",
    "> Then I dropped the movies with multiple genres from the original copy df_genres_ops.\n",
    ">\n",
    "> Finally, I merged two dataframes, df_genres_ops and multiple_genres_separated.\n",
    "> (<a href=\"https://classroom.udacity.com/nanodegrees/nd002/parts/16904efb-1891-4822-ac1b-e6d74d746872/modules/cfb63a6e-56a3-4022-9d61-514f2f4759a8/lessons/f81a3576-0665-4721-a8bb-ba50c80c04ac/concepts/1c0a837e-0cbd-4d48-8acf-9aa0b80aa252\">Udacity source</a>)"
   ]
  },
  {
   "cell_type": "code",
   "execution_count": 15,
   "metadata": {},
   "outputs": [
    {
     "name": "stdout",
     "output_type": "stream",
     "text": [
      "(16102, 7)\n"
     ]
    },
    {
     "data": {
      "text/html": [
       "<div>\n",
       "<style scoped>\n",
       "    .dataframe tbody tr th:only-of-type {\n",
       "        vertical-align: middle;\n",
       "    }\n",
       "\n",
       "    .dataframe tbody tr th {\n",
       "        vertical-align: top;\n",
       "    }\n",
       "\n",
       "    .dataframe thead th {\n",
       "        text-align: right;\n",
       "    }\n",
       "</style>\n",
       "<table border=\"1\" class=\"dataframe\">\n",
       "  <thead>\n",
       "    <tr style=\"text-align: right;\">\n",
       "      <th></th>\n",
       "      <th>id</th>\n",
       "      <th>original_title</th>\n",
       "      <th>genres</th>\n",
       "      <th>vote_count</th>\n",
       "      <th>vote_average</th>\n",
       "      <th>release_year</th>\n",
       "      <th>revenue_adj</th>\n",
       "    </tr>\n",
       "  </thead>\n",
       "  <tbody>\n",
       "    <tr>\n",
       "      <th>16092</th>\n",
       "      <td>5780</td>\n",
       "      <td>Torn Curtain</td>\n",
       "      <td>Thriller</td>\n",
       "      <td>46</td>\n",
       "      <td>6.3</td>\n",
       "      <td>1966</td>\n",
       "      <td>8.733419e+07</td>\n",
       "    </tr>\n",
       "    <tr>\n",
       "      <th>16093</th>\n",
       "      <td>6644</td>\n",
       "      <td>El Dorado</td>\n",
       "      <td>Action</td>\n",
       "      <td>36</td>\n",
       "      <td>6.9</td>\n",
       "      <td>1966</td>\n",
       "      <td>4.030809e+07</td>\n",
       "    </tr>\n",
       "    <tr>\n",
       "      <th>16094</th>\n",
       "      <td>6644</td>\n",
       "      <td>El Dorado</td>\n",
       "      <td>Western</td>\n",
       "      <td>36</td>\n",
       "      <td>6.9</td>\n",
       "      <td>1966</td>\n",
       "      <td>4.030809e+07</td>\n",
       "    </tr>\n",
       "    <tr>\n",
       "      <th>16095</th>\n",
       "      <td>3001</td>\n",
       "      <td>How to Steal a Million</td>\n",
       "      <td>Comedy</td>\n",
       "      <td>67</td>\n",
       "      <td>7.3</td>\n",
       "      <td>1966</td>\n",
       "      <td>0.000000e+00</td>\n",
       "    </tr>\n",
       "    <tr>\n",
       "      <th>16096</th>\n",
       "      <td>3001</td>\n",
       "      <td>How to Steal a Million</td>\n",
       "      <td>Crime</td>\n",
       "      <td>67</td>\n",
       "      <td>7.3</td>\n",
       "      <td>1966</td>\n",
       "      <td>0.000000e+00</td>\n",
       "    </tr>\n",
       "    <tr>\n",
       "      <th>16097</th>\n",
       "      <td>3001</td>\n",
       "      <td>How to Steal a Million</td>\n",
       "      <td>Romance</td>\n",
       "      <td>67</td>\n",
       "      <td>7.3</td>\n",
       "      <td>1966</td>\n",
       "      <td>0.000000e+00</td>\n",
       "    </tr>\n",
       "    <tr>\n",
       "      <th>16098</th>\n",
       "      <td>13353</td>\n",
       "      <td>It's the Great Pumpkin, Charlie Brown</td>\n",
       "      <td>Family</td>\n",
       "      <td>49</td>\n",
       "      <td>7.2</td>\n",
       "      <td>1966</td>\n",
       "      <td>0.000000e+00</td>\n",
       "    </tr>\n",
       "    <tr>\n",
       "      <th>16099</th>\n",
       "      <td>13353</td>\n",
       "      <td>It's the Great Pumpkin, Charlie Brown</td>\n",
       "      <td>Animation</td>\n",
       "      <td>49</td>\n",
       "      <td>7.2</td>\n",
       "      <td>1966</td>\n",
       "      <td>0.000000e+00</td>\n",
       "    </tr>\n",
       "    <tr>\n",
       "      <th>16100</th>\n",
       "      <td>2161</td>\n",
       "      <td>Fantastic Voyage</td>\n",
       "      <td>Adventure</td>\n",
       "      <td>42</td>\n",
       "      <td>6.7</td>\n",
       "      <td>1966</td>\n",
       "      <td>8.061618e+07</td>\n",
       "    </tr>\n",
       "    <tr>\n",
       "      <th>16101</th>\n",
       "      <td>2161</td>\n",
       "      <td>Fantastic Voyage</td>\n",
       "      <td>Science Fiction</td>\n",
       "      <td>42</td>\n",
       "      <td>6.7</td>\n",
       "      <td>1966</td>\n",
       "      <td>8.061618e+07</td>\n",
       "    </tr>\n",
       "  </tbody>\n",
       "</table>\n",
       "</div>"
      ],
      "text/plain": [
       "          id                         original_title           genres  \\\n",
       "16092   5780                           Torn Curtain         Thriller   \n",
       "16093   6644                              El Dorado           Action   \n",
       "16094   6644                              El Dorado          Western   \n",
       "16095   3001                 How to Steal a Million           Comedy   \n",
       "16096   3001                 How to Steal a Million            Crime   \n",
       "16097   3001                 How to Steal a Million          Romance   \n",
       "16098  13353  It's the Great Pumpkin, Charlie Brown           Family   \n",
       "16099  13353  It's the Great Pumpkin, Charlie Brown        Animation   \n",
       "16100   2161                       Fantastic Voyage        Adventure   \n",
       "16101   2161                       Fantastic Voyage  Science Fiction   \n",
       "\n",
       "       vote_count  vote_average  release_year   revenue_adj  \n",
       "16092          46           6.3          1966  8.733419e+07  \n",
       "16093          36           6.9          1966  4.030809e+07  \n",
       "16094          36           6.9          1966  4.030809e+07  \n",
       "16095          67           7.3          1966  0.000000e+00  \n",
       "16096          67           7.3          1966  0.000000e+00  \n",
       "16097          67           7.3          1966  0.000000e+00  \n",
       "16098          49           7.2          1966  0.000000e+00  \n",
       "16099          49           7.2          1966  0.000000e+00  \n",
       "16100          42           6.7          1966  8.061618e+07  \n",
       "16101          42           6.7          1966  8.061618e+07  "
      ]
     },
     "execution_count": 15,
     "metadata": {},
     "output_type": "execute_result"
    }
   ],
   "source": [
    "df_genres_ops = df.copy()\n",
    "multiple_genres_separated = tidy_split(multiple_genres, 'genres', sep='|')\n",
    "df_genres_ops.drop(multiple_genres.index, inplace=True)\n",
    "df_genres_ops = df_genres_ops.append(multiple_genres_separated, ignore_index=True)\n",
    "print(df_genres_ops.shape)\n",
    "df_genres_ops.tail(10)"
   ]
  },
  {
   "cell_type": "markdown",
   "metadata": {},
   "source": [
    "> As can be seen, the movies with multiple genres are splitted and each of its genre is assigned to one of these duplicates."
   ]
  },
  {
   "cell_type": "code",
   "execution_count": 16,
   "metadata": {},
   "outputs": [
    {
     "data": {
      "text/html": [
       "<div>\n",
       "<style scoped>\n",
       "    .dataframe tbody tr th:only-of-type {\n",
       "        vertical-align: middle;\n",
       "    }\n",
       "\n",
       "    .dataframe tbody tr th {\n",
       "        vertical-align: top;\n",
       "    }\n",
       "\n",
       "    .dataframe thead th {\n",
       "        text-align: right;\n",
       "    }\n",
       "</style>\n",
       "<table border=\"1\" class=\"dataframe\">\n",
       "  <thead>\n",
       "    <tr style=\"text-align: right;\">\n",
       "      <th></th>\n",
       "      <th>id</th>\n",
       "      <th>original_title</th>\n",
       "      <th>genres</th>\n",
       "      <th>vote_count</th>\n",
       "      <th>vote_average</th>\n",
       "      <th>release_year</th>\n",
       "      <th>revenue_adj</th>\n",
       "    </tr>\n",
       "  </thead>\n",
       "  <tbody>\n",
       "    <tr>\n",
       "      <th>16092</th>\n",
       "      <td>5780</td>\n",
       "      <td>Torn Curtain</td>\n",
       "      <td>thriller</td>\n",
       "      <td>46</td>\n",
       "      <td>6.3</td>\n",
       "      <td>1966</td>\n",
       "      <td>8.733419e+07</td>\n",
       "    </tr>\n",
       "    <tr>\n",
       "      <th>16093</th>\n",
       "      <td>6644</td>\n",
       "      <td>El Dorado</td>\n",
       "      <td>action</td>\n",
       "      <td>36</td>\n",
       "      <td>6.9</td>\n",
       "      <td>1966</td>\n",
       "      <td>4.030809e+07</td>\n",
       "    </tr>\n",
       "    <tr>\n",
       "      <th>16094</th>\n",
       "      <td>6644</td>\n",
       "      <td>El Dorado</td>\n",
       "      <td>western</td>\n",
       "      <td>36</td>\n",
       "      <td>6.9</td>\n",
       "      <td>1966</td>\n",
       "      <td>4.030809e+07</td>\n",
       "    </tr>\n",
       "    <tr>\n",
       "      <th>16095</th>\n",
       "      <td>3001</td>\n",
       "      <td>How to Steal a Million</td>\n",
       "      <td>comedy</td>\n",
       "      <td>67</td>\n",
       "      <td>7.3</td>\n",
       "      <td>1966</td>\n",
       "      <td>0.000000e+00</td>\n",
       "    </tr>\n",
       "    <tr>\n",
       "      <th>16096</th>\n",
       "      <td>3001</td>\n",
       "      <td>How to Steal a Million</td>\n",
       "      <td>crime</td>\n",
       "      <td>67</td>\n",
       "      <td>7.3</td>\n",
       "      <td>1966</td>\n",
       "      <td>0.000000e+00</td>\n",
       "    </tr>\n",
       "    <tr>\n",
       "      <th>16097</th>\n",
       "      <td>3001</td>\n",
       "      <td>How to Steal a Million</td>\n",
       "      <td>romance</td>\n",
       "      <td>67</td>\n",
       "      <td>7.3</td>\n",
       "      <td>1966</td>\n",
       "      <td>0.000000e+00</td>\n",
       "    </tr>\n",
       "    <tr>\n",
       "      <th>16098</th>\n",
       "      <td>13353</td>\n",
       "      <td>It's the Great Pumpkin, Charlie Brown</td>\n",
       "      <td>family</td>\n",
       "      <td>49</td>\n",
       "      <td>7.2</td>\n",
       "      <td>1966</td>\n",
       "      <td>0.000000e+00</td>\n",
       "    </tr>\n",
       "    <tr>\n",
       "      <th>16099</th>\n",
       "      <td>13353</td>\n",
       "      <td>It's the Great Pumpkin, Charlie Brown</td>\n",
       "      <td>animation</td>\n",
       "      <td>49</td>\n",
       "      <td>7.2</td>\n",
       "      <td>1966</td>\n",
       "      <td>0.000000e+00</td>\n",
       "    </tr>\n",
       "    <tr>\n",
       "      <th>16100</th>\n",
       "      <td>2161</td>\n",
       "      <td>Fantastic Voyage</td>\n",
       "      <td>adventure</td>\n",
       "      <td>42</td>\n",
       "      <td>6.7</td>\n",
       "      <td>1966</td>\n",
       "      <td>8.061618e+07</td>\n",
       "    </tr>\n",
       "    <tr>\n",
       "      <th>16101</th>\n",
       "      <td>2161</td>\n",
       "      <td>Fantastic Voyage</td>\n",
       "      <td>science fiction</td>\n",
       "      <td>42</td>\n",
       "      <td>6.7</td>\n",
       "      <td>1966</td>\n",
       "      <td>8.061618e+07</td>\n",
       "    </tr>\n",
       "  </tbody>\n",
       "</table>\n",
       "</div>"
      ],
      "text/plain": [
       "          id                         original_title           genres  \\\n",
       "16092   5780                           Torn Curtain         thriller   \n",
       "16093   6644                              El Dorado           action   \n",
       "16094   6644                              El Dorado          western   \n",
       "16095   3001                 How to Steal a Million           comedy   \n",
       "16096   3001                 How to Steal a Million            crime   \n",
       "16097   3001                 How to Steal a Million          romance   \n",
       "16098  13353  It's the Great Pumpkin, Charlie Brown           family   \n",
       "16099  13353  It's the Great Pumpkin, Charlie Brown        animation   \n",
       "16100   2161                       Fantastic Voyage        adventure   \n",
       "16101   2161                       Fantastic Voyage  science fiction   \n",
       "\n",
       "       vote_count  vote_average  release_year   revenue_adj  \n",
       "16092          46           6.3          1966  8.733419e+07  \n",
       "16093          36           6.9          1966  4.030809e+07  \n",
       "16094          36           6.9          1966  4.030809e+07  \n",
       "16095          67           7.3          1966  0.000000e+00  \n",
       "16096          67           7.3          1966  0.000000e+00  \n",
       "16097          67           7.3          1966  0.000000e+00  \n",
       "16098          49           7.2          1966  0.000000e+00  \n",
       "16099          49           7.2          1966  0.000000e+00  \n",
       "16100          42           6.7          1966  8.061618e+07  \n",
       "16101          42           6.7          1966  8.061618e+07  "
      ]
     },
     "execution_count": 16,
     "metadata": {},
     "output_type": "execute_result"
    }
   ],
   "source": [
    "# guarantee that each genre is lowercase\n",
    "df_genres_ops['genres'] = df_genres_ops['genres'].str.lower()\n",
    "df_genres_ops.tail(10)"
   ]
  },
  {
   "cell_type": "markdown",
   "metadata": {},
   "source": [
    "> First of all, as we will be looking for the movies in 2000s, I am going to filter df_genres_ops dataframe."
   ]
  },
  {
   "cell_type": "code",
   "execution_count": 17,
   "metadata": {},
   "outputs": [
    {
     "name": "stdout",
     "output_type": "stream",
     "text": [
      "<class 'pandas.core.frame.DataFrame'>\n",
      "Int64Index: 10775 entries, 0 to 13536\n",
      "Data columns (total 7 columns):\n",
      "id                10775 non-null int64\n",
      "original_title    10775 non-null object\n",
      "genres            10775 non-null object\n",
      "vote_count        10775 non-null int64\n",
      "vote_average      10775 non-null float64\n",
      "release_year      10775 non-null int64\n",
      "revenue_adj       10775 non-null float64\n",
      "dtypes: float64(2), int64(3), object(2)\n",
      "memory usage: 673.4+ KB\n"
     ]
    }
   ],
   "source": [
    "df_genres_ops = df_genres_ops.query('release_year >= 2000')\n",
    "df_genres_ops.info()"
   ]
  },
  {
   "cell_type": "code",
   "execution_count": 18,
   "metadata": {},
   "outputs": [
    {
     "data": {
      "text/html": [
       "<div>\n",
       "<style scoped>\n",
       "    .dataframe tbody tr th:only-of-type {\n",
       "        vertical-align: middle;\n",
       "    }\n",
       "\n",
       "    .dataframe tbody tr th {\n",
       "        vertical-align: top;\n",
       "    }\n",
       "\n",
       "    .dataframe thead th {\n",
       "        text-align: right;\n",
       "    }\n",
       "</style>\n",
       "<table border=\"1\" class=\"dataframe\">\n",
       "  <thead>\n",
       "    <tr style=\"text-align: right;\">\n",
       "      <th></th>\n",
       "      <th>id</th>\n",
       "      <th>vote_count</th>\n",
       "      <th>vote_average</th>\n",
       "      <th>release_year</th>\n",
       "      <th>revenue_adj</th>\n",
       "    </tr>\n",
       "  </thead>\n",
       "  <tbody>\n",
       "    <tr>\n",
       "      <th>count</th>\n",
       "      <td>10775.000000</td>\n",
       "      <td>10775.000000</td>\n",
       "      <td>10775.000000</td>\n",
       "      <td>10775.000000</td>\n",
       "      <td>1.077500e+04</td>\n",
       "    </tr>\n",
       "    <tr>\n",
       "      <th>mean</th>\n",
       "      <td>74805.437123</td>\n",
       "      <td>476.551647</td>\n",
       "      <td>6.056659</td>\n",
       "      <td>2008.605568</td>\n",
       "      <td>8.844555e+07</td>\n",
       "    </tr>\n",
       "    <tr>\n",
       "      <th>std</th>\n",
       "      <td>95307.393343</td>\n",
       "      <td>881.597262</td>\n",
       "      <td>0.816939</td>\n",
       "      <td>4.422063</td>\n",
       "      <td>1.849791e+08</td>\n",
       "    </tr>\n",
       "    <tr>\n",
       "      <th>min</th>\n",
       "      <td>12.000000</td>\n",
       "      <td>30.000000</td>\n",
       "      <td>2.100000</td>\n",
       "      <td>2000.000000</td>\n",
       "      <td>0.000000e+00</td>\n",
       "    </tr>\n",
       "    <tr>\n",
       "      <th>25%</th>\n",
       "      <td>10051.000000</td>\n",
       "      <td>59.000000</td>\n",
       "      <td>5.500000</td>\n",
       "      <td>2005.000000</td>\n",
       "      <td>0.000000e+00</td>\n",
       "    </tr>\n",
       "    <tr>\n",
       "      <th>50%</th>\n",
       "      <td>23082.000000</td>\n",
       "      <td>148.000000</td>\n",
       "      <td>6.100000</td>\n",
       "      <td>2009.000000</td>\n",
       "      <td>1.119823e+07</td>\n",
       "    </tr>\n",
       "    <tr>\n",
       "      <th>75%</th>\n",
       "      <td>102839.500000</td>\n",
       "      <td>453.000000</td>\n",
       "      <td>6.600000</td>\n",
       "      <td>2012.000000</td>\n",
       "      <td>9.268990e+07</td>\n",
       "    </tr>\n",
       "    <tr>\n",
       "      <th>max</th>\n",
       "      <td>417859.000000</td>\n",
       "      <td>9767.000000</td>\n",
       "      <td>8.800000</td>\n",
       "      <td>2015.000000</td>\n",
       "      <td>2.827124e+09</td>\n",
       "    </tr>\n",
       "  </tbody>\n",
       "</table>\n",
       "</div>"
      ],
      "text/plain": [
       "                  id    vote_count  vote_average  release_year   revenue_adj\n",
       "count   10775.000000  10775.000000  10775.000000  10775.000000  1.077500e+04\n",
       "mean    74805.437123    476.551647      6.056659   2008.605568  8.844555e+07\n",
       "std     95307.393343    881.597262      0.816939      4.422063  1.849791e+08\n",
       "min        12.000000     30.000000      2.100000   2000.000000  0.000000e+00\n",
       "25%     10051.000000     59.000000      5.500000   2005.000000  0.000000e+00\n",
       "50%     23082.000000    148.000000      6.100000   2009.000000  1.119823e+07\n",
       "75%    102839.500000    453.000000      6.600000   2012.000000  9.268990e+07\n",
       "max    417859.000000   9767.000000      8.800000   2015.000000  2.827124e+09"
      ]
     },
     "execution_count": 18,
     "metadata": {},
     "output_type": "execute_result"
    }
   ],
   "source": [
    "df_genres_ops.describe()"
   ]
  },
  {
   "cell_type": "markdown",
   "metadata": {},
   "source": [
    "> Okay, the minimum release_year is 2000.\n",
    ">\n",
    "> Now, we will groupby the movies with their mean vote_average by 2 variables: release_year and genres, respectively:"
   ]
  },
  {
   "cell_type": "code",
   "execution_count": 19,
   "metadata": {
    "scrolled": true
   },
   "outputs": [
    {
     "data": {
      "text/plain": [
       "release_year  genres         \n",
       "2000          action             5.902857\n",
       "              adventure          6.087500\n",
       "              animation          6.252941\n",
       "              comedy             5.934483\n",
       "              crime              6.090909\n",
       "              drama              6.256667\n",
       "              family             6.004167\n",
       "              fantasy            5.829412\n",
       "              foreign            6.400000\n",
       "              history            6.250000\n",
       "              horror             5.600000\n",
       "              music              7.160000\n",
       "              mystery            5.836364\n",
       "              romance            5.744000\n",
       "              science fiction    5.470588\n",
       "              thriller           5.860000\n",
       "              war                6.250000\n",
       "              western            6.100000\n",
       "2001          action             5.788636\n",
       "              adventure          5.688462\n",
       "              animation          6.200000\n",
       "              comedy             5.706250\n",
       "              crime              6.135294\n",
       "              documentary        6.500000\n",
       "              drama              6.359375\n",
       "              family             6.257143\n",
       "              fantasy            5.931250\n",
       "              history            6.360000\n",
       "              horror             5.666667\n",
       "              music              6.380000\n",
       "                                   ...   \n",
       "2014          fantasy            6.360870\n",
       "              history            6.680000\n",
       "              horror             5.348571\n",
       "              music              6.707692\n",
       "              mystery            6.072000\n",
       "              romance            6.333333\n",
       "              science fiction    6.178261\n",
       "              thriller           5.780315\n",
       "              tv movie           6.280000\n",
       "              war                6.600000\n",
       "              western            5.680000\n",
       "2015          action             5.893333\n",
       "              adventure          6.238182\n",
       "              animation          6.531034\n",
       "              comedy             6.157547\n",
       "              crime              6.120000\n",
       "              documentary        7.058621\n",
       "              drama              6.312579\n",
       "              family             6.475000\n",
       "              fantasy            6.088889\n",
       "              history            6.727273\n",
       "              horror             5.353226\n",
       "              music              6.580952\n",
       "              mystery            6.012000\n",
       "              romance            6.205882\n",
       "              science fiction    5.884483\n",
       "              thriller           5.712264\n",
       "              tv movie           5.125000\n",
       "              war                6.633333\n",
       "              western            6.316667\n",
       "Name: vote_average, Length: 307, dtype: float64"
      ]
     },
     "execution_count": 19,
     "metadata": {},
     "output_type": "execute_result"
    }
   ],
   "source": [
    "df_genres_ops.groupby([\"release_year\", \"genres\"])[\"vote_average\"].mean()"
   ]
  },
  {
   "cell_type": "markdown",
   "metadata": {},
   "source": [
    "> This is what we needed.\n",
    ">\n",
    "> Now there is a tricky part. I need to filter the max vote_average mean from each year group. To do that I need to convert this pandas.GroupBy object to a dataframe first (<a href=\"https://stackoverflow.com/a/46938596/4665915\">Stackoverflow source</a>):"
   ]
  },
  {
   "cell_type": "code",
   "execution_count": 20,
   "metadata": {},
   "outputs": [
    {
     "data": {
      "text/html": [
       "<div>\n",
       "<style scoped>\n",
       "    .dataframe tbody tr th:only-of-type {\n",
       "        vertical-align: middle;\n",
       "    }\n",
       "\n",
       "    .dataframe tbody tr th {\n",
       "        vertical-align: top;\n",
       "    }\n",
       "\n",
       "    .dataframe thead th {\n",
       "        text-align: right;\n",
       "    }\n",
       "</style>\n",
       "<table border=\"1\" class=\"dataframe\">\n",
       "  <thead>\n",
       "    <tr style=\"text-align: right;\">\n",
       "      <th></th>\n",
       "      <th>release_year</th>\n",
       "      <th>genres</th>\n",
       "      <th>vote_average</th>\n",
       "    </tr>\n",
       "  </thead>\n",
       "  <tbody>\n",
       "    <tr>\n",
       "      <th>0</th>\n",
       "      <td>2000</td>\n",
       "      <td>action</td>\n",
       "      <td>5.902857</td>\n",
       "    </tr>\n",
       "    <tr>\n",
       "      <th>1</th>\n",
       "      <td>2000</td>\n",
       "      <td>adventure</td>\n",
       "      <td>6.087500</td>\n",
       "    </tr>\n",
       "    <tr>\n",
       "      <th>2</th>\n",
       "      <td>2000</td>\n",
       "      <td>animation</td>\n",
       "      <td>6.252941</td>\n",
       "    </tr>\n",
       "    <tr>\n",
       "      <th>3</th>\n",
       "      <td>2000</td>\n",
       "      <td>comedy</td>\n",
       "      <td>5.934483</td>\n",
       "    </tr>\n",
       "    <tr>\n",
       "      <th>4</th>\n",
       "      <td>2000</td>\n",
       "      <td>crime</td>\n",
       "      <td>6.090909</td>\n",
       "    </tr>\n",
       "  </tbody>\n",
       "</table>\n",
       "</div>"
      ],
      "text/plain": [
       "   release_year     genres  vote_average\n",
       "0          2000     action      5.902857\n",
       "1          2000  adventure      6.087500\n",
       "2          2000  animation      6.252941\n",
       "3          2000     comedy      5.934483\n",
       "4          2000      crime      6.090909"
      ]
     },
     "execution_count": 20,
     "metadata": {},
     "output_type": "execute_result"
    }
   ],
   "source": [
    "df_grouped_mean = df_genres_ops.groupby([\"release_year\", \"genres\"])[\"vote_average\"].mean().reset_index()\n",
    "df_grouped_mean.head()"
   ]
  },
  {
   "cell_type": "markdown",
   "metadata": {},
   "source": [
    "> In the next step, I re-groupby this new dataframe called df_grouped_mean with its max vote_average by release_date column:"
   ]
  },
  {
   "cell_type": "code",
   "execution_count": 21,
   "metadata": {},
   "outputs": [
    {
     "data": {
      "text/html": [
       "<div>\n",
       "<style scoped>\n",
       "    .dataframe tbody tr th:only-of-type {\n",
       "        vertical-align: middle;\n",
       "    }\n",
       "\n",
       "    .dataframe tbody tr th {\n",
       "        vertical-align: top;\n",
       "    }\n",
       "\n",
       "    .dataframe thead th {\n",
       "        text-align: right;\n",
       "    }\n",
       "</style>\n",
       "<table border=\"1\" class=\"dataframe\">\n",
       "  <thead>\n",
       "    <tr style=\"text-align: right;\">\n",
       "      <th></th>\n",
       "      <th>release_year</th>\n",
       "      <th>vote_average</th>\n",
       "    </tr>\n",
       "  </thead>\n",
       "  <tbody>\n",
       "    <tr>\n",
       "      <th>0</th>\n",
       "      <td>2000</td>\n",
       "      <td>7.160000</td>\n",
       "    </tr>\n",
       "    <tr>\n",
       "      <th>1</th>\n",
       "      <td>2001</td>\n",
       "      <td>6.675000</td>\n",
       "    </tr>\n",
       "    <tr>\n",
       "      <th>2</th>\n",
       "      <td>2002</td>\n",
       "      <td>7.100000</td>\n",
       "    </tr>\n",
       "    <tr>\n",
       "      <th>3</th>\n",
       "      <td>2003</td>\n",
       "      <td>7.333333</td>\n",
       "    </tr>\n",
       "    <tr>\n",
       "      <th>4</th>\n",
       "      <td>2004</td>\n",
       "      <td>6.600000</td>\n",
       "    </tr>\n",
       "  </tbody>\n",
       "</table>\n",
       "</div>"
      ],
      "text/plain": [
       "   release_year  vote_average\n",
       "0          2000      7.160000\n",
       "1          2001      6.675000\n",
       "2          2002      7.100000\n",
       "3          2003      7.333333\n",
       "4          2004      6.600000"
      ]
     },
     "execution_count": 21,
     "metadata": {},
     "output_type": "execute_result"
    }
   ],
   "source": [
    "df_grouped_mean_max = df_grouped_mean.groupby(\"release_year\")[\"vote_average\"].max().reset_index()\n",
    "df_grouped_mean_max.head()"
   ]
  },
  {
   "cell_type": "markdown",
   "metadata": {},
   "source": [
    "> We have only last thing to do: Intersect (similar as inner join) df_grouped_mean and df_grouped_mean_max so that we get the genre names of df_grouped_mean_max entries (<a href=\"https://stackoverflow.com/a/26921975/4665915\">Stackoverflow source</a>):"
   ]
  },
  {
   "cell_type": "code",
   "execution_count": 22,
   "metadata": {},
   "outputs": [
    {
     "data": {
      "text/html": [
       "<div>\n",
       "<style scoped>\n",
       "    .dataframe tbody tr th:only-of-type {\n",
       "        vertical-align: middle;\n",
       "    }\n",
       "\n",
       "    .dataframe tbody tr th {\n",
       "        vertical-align: top;\n",
       "    }\n",
       "\n",
       "    .dataframe thead th {\n",
       "        text-align: right;\n",
       "    }\n",
       "</style>\n",
       "<table border=\"1\" class=\"dataframe\">\n",
       "  <thead>\n",
       "    <tr style=\"text-align: right;\">\n",
       "      <th></th>\n",
       "      <th>release_year</th>\n",
       "      <th>genres</th>\n",
       "      <th>vote_average</th>\n",
       "    </tr>\n",
       "  </thead>\n",
       "  <tbody>\n",
       "    <tr>\n",
       "      <th>0</th>\n",
       "      <td>2000</td>\n",
       "      <td>music</td>\n",
       "      <td>7.160000</td>\n",
       "    </tr>\n",
       "    <tr>\n",
       "      <th>1</th>\n",
       "      <td>2001</td>\n",
       "      <td>war</td>\n",
       "      <td>6.675000</td>\n",
       "    </tr>\n",
       "    <tr>\n",
       "      <th>2</th>\n",
       "      <td>2002</td>\n",
       "      <td>documentary</td>\n",
       "      <td>7.100000</td>\n",
       "    </tr>\n",
       "    <tr>\n",
       "      <th>3</th>\n",
       "      <td>2002</td>\n",
       "      <td>western</td>\n",
       "      <td>7.100000</td>\n",
       "    </tr>\n",
       "    <tr>\n",
       "      <th>4</th>\n",
       "      <td>2003</td>\n",
       "      <td>documentary</td>\n",
       "      <td>7.333333</td>\n",
       "    </tr>\n",
       "    <tr>\n",
       "      <th>5</th>\n",
       "      <td>2004</td>\n",
       "      <td>foreign</td>\n",
       "      <td>6.600000</td>\n",
       "    </tr>\n",
       "    <tr>\n",
       "      <th>6</th>\n",
       "      <td>2005</td>\n",
       "      <td>documentary</td>\n",
       "      <td>6.966667</td>\n",
       "    </tr>\n",
       "    <tr>\n",
       "      <th>7</th>\n",
       "      <td>2006</td>\n",
       "      <td>documentary</td>\n",
       "      <td>6.600000</td>\n",
       "    </tr>\n",
       "    <tr>\n",
       "      <th>8</th>\n",
       "      <td>2007</td>\n",
       "      <td>documentary</td>\n",
       "      <td>6.944444</td>\n",
       "    </tr>\n",
       "    <tr>\n",
       "      <th>9</th>\n",
       "      <td>2008</td>\n",
       "      <td>documentary</td>\n",
       "      <td>7.400000</td>\n",
       "    </tr>\n",
       "    <tr>\n",
       "      <th>10</th>\n",
       "      <td>2009</td>\n",
       "      <td>documentary</td>\n",
       "      <td>7.314286</td>\n",
       "    </tr>\n",
       "    <tr>\n",
       "      <th>11</th>\n",
       "      <td>2010</td>\n",
       "      <td>war</td>\n",
       "      <td>7.175000</td>\n",
       "    </tr>\n",
       "    <tr>\n",
       "      <th>12</th>\n",
       "      <td>2011</td>\n",
       "      <td>documentary</td>\n",
       "      <td>7.176471</td>\n",
       "    </tr>\n",
       "    <tr>\n",
       "      <th>13</th>\n",
       "      <td>2012</td>\n",
       "      <td>documentary</td>\n",
       "      <td>6.720000</td>\n",
       "    </tr>\n",
       "    <tr>\n",
       "      <th>14</th>\n",
       "      <td>2013</td>\n",
       "      <td>documentary</td>\n",
       "      <td>7.225000</td>\n",
       "    </tr>\n",
       "    <tr>\n",
       "      <th>15</th>\n",
       "      <td>2014</td>\n",
       "      <td>documentary</td>\n",
       "      <td>7.280952</td>\n",
       "    </tr>\n",
       "    <tr>\n",
       "      <th>16</th>\n",
       "      <td>2015</td>\n",
       "      <td>documentary</td>\n",
       "      <td>7.058621</td>\n",
       "    </tr>\n",
       "  </tbody>\n",
       "</table>\n",
       "</div>"
      ],
      "text/plain": [
       "    release_year       genres  vote_average\n",
       "0           2000        music      7.160000\n",
       "1           2001          war      6.675000\n",
       "2           2002  documentary      7.100000\n",
       "3           2002      western      7.100000\n",
       "4           2003  documentary      7.333333\n",
       "5           2004      foreign      6.600000\n",
       "6           2005  documentary      6.966667\n",
       "7           2006  documentary      6.600000\n",
       "8           2007  documentary      6.944444\n",
       "9           2008  documentary      7.400000\n",
       "10          2009  documentary      7.314286\n",
       "11          2010          war      7.175000\n",
       "12          2011  documentary      7.176471\n",
       "13          2012  documentary      6.720000\n",
       "14          2013  documentary      7.225000\n",
       "15          2014  documentary      7.280952\n",
       "16          2015  documentary      7.058621"
      ]
     },
     "execution_count": 22,
     "metadata": {},
     "output_type": "execute_result"
    }
   ],
   "source": [
    "df_grouped_genres_vote_year = pd.merge(df_grouped_mean, df_grouped_mean_max, how='inner', on=[\"release_year\", \"vote_average\"])\n",
    "df_grouped_genres_vote_year"
   ]
  },
  {
   "cell_type": "markdown",
   "metadata": {},
   "source": [
    "> OK, thats it! We just need to plot this."
   ]
  },
  {
   "cell_type": "code",
   "execution_count": 23,
   "metadata": {
    "scrolled": false
   },
   "outputs": [
    {
     "data": {
      "image/png": "[encoded data removed]",
      "text/plain": [
       "<matplotlib.figure.Figure at 0x7fcbbb151e48>"
      ]
     },
     "metadata": {},
     "output_type": "display_data"
    }
   ],
   "source": [
    "votes = df_grouped_genres_vote_year.groupby([\"release_year\", \"genres\"])['vote_average'].mean()\n",
    "ax = votes.plot(kind='bar', figsize=(25,7));\n",
    "\n",
    "ax.set_ylabel(\"Vote Averages\")\n",
    "ax.set_xlabel(\"Years, Genres\")\n",
    "ax.set_title('Highest Voted Movie Genres in 2000s');"
   ]
  },
  {
   "cell_type": "markdown",
   "metadata": {},
   "source": [
    "> We can see that \"documentary\" genre leaded most of the years in 2000s, in terms of the mean vote average."
   ]
  },
  {
   "cell_type": "markdown",
   "metadata": {},
   "source": [
    "##### 2. Is there any relation between the movies' vote average and revenue in terms of 2010 dollars?"
   ]
  },
  {
   "cell_type": "markdown",
   "metadata": {},
   "source": [
    "> To answer this question, we need to group revenue_adj values to certain thresholds and see the trends. Lets see some details."
   ]
  },
  {
   "cell_type": "code",
   "execution_count": 24,
   "metadata": {
    "scrolled": false
   },
   "outputs": [
    {
     "data": {
      "text/html": [
       "<div>\n",
       "<style scoped>\n",
       "    .dataframe tbody tr th:only-of-type {\n",
       "        vertical-align: middle;\n",
       "    }\n",
       "\n",
       "    .dataframe tbody tr th {\n",
       "        vertical-align: top;\n",
       "    }\n",
       "\n",
       "    .dataframe thead th {\n",
       "        text-align: right;\n",
       "    }\n",
       "</style>\n",
       "<table border=\"1\" class=\"dataframe\">\n",
       "  <thead>\n",
       "    <tr style=\"text-align: right;\">\n",
       "      <th></th>\n",
       "      <th>id</th>\n",
       "      <th>vote_count</th>\n",
       "      <th>vote_average</th>\n",
       "      <th>release_year</th>\n",
       "      <th>revenue_adj</th>\n",
       "    </tr>\n",
       "  </thead>\n",
       "  <tbody>\n",
       "    <tr>\n",
       "      <th>count</th>\n",
       "      <td>6141.000000</td>\n",
       "      <td>6141.000000</td>\n",
       "      <td>6141.000000</td>\n",
       "      <td>6141.000000</td>\n",
       "      <td>6.141000e+03</td>\n",
       "    </tr>\n",
       "    <tr>\n",
       "      <th>mean</th>\n",
       "      <td>59429.219508</td>\n",
       "      <td>371.784074</td>\n",
       "      <td>6.152288</td>\n",
       "      <td>2002.322912</td>\n",
       "      <td>8.836860e+07</td>\n",
       "    </tr>\n",
       "    <tr>\n",
       "      <th>std</th>\n",
       "      <td>89054.082499</td>\n",
       "      <td>729.015102</td>\n",
       "      <td>0.818101</td>\n",
       "      <td>11.689026</td>\n",
       "      <td>1.833586e+08</td>\n",
       "    </tr>\n",
       "    <tr>\n",
       "      <th>min</th>\n",
       "      <td>5.000000</td>\n",
       "      <td>30.000000</td>\n",
       "      <td>2.100000</td>\n",
       "      <td>1960.000000</td>\n",
       "      <td>0.000000e+00</td>\n",
       "    </tr>\n",
       "    <tr>\n",
       "      <th>25%</th>\n",
       "      <td>9255.000000</td>\n",
       "      <td>53.000000</td>\n",
       "      <td>5.600000</td>\n",
       "      <td>1996.000000</td>\n",
       "      <td>0.000000e+00</td>\n",
       "    </tr>\n",
       "    <tr>\n",
       "      <th>50%</th>\n",
       "      <td>13192.000000</td>\n",
       "      <td>116.000000</td>\n",
       "      <td>6.200000</td>\n",
       "      <td>2006.000000</td>\n",
       "      <td>1.702528e+07</td>\n",
       "    </tr>\n",
       "    <tr>\n",
       "      <th>75%</th>\n",
       "      <td>71679.000000</td>\n",
       "      <td>333.000000</td>\n",
       "      <td>6.700000</td>\n",
       "      <td>2011.000000</td>\n",
       "      <td>9.436387e+07</td>\n",
       "    </tr>\n",
       "    <tr>\n",
       "      <th>max</th>\n",
       "      <td>417859.000000</td>\n",
       "      <td>9767.000000</td>\n",
       "      <td>8.800000</td>\n",
       "      <td>2015.000000</td>\n",
       "      <td>2.827124e+09</td>\n",
       "    </tr>\n",
       "  </tbody>\n",
       "</table>\n",
       "</div>"
      ],
      "text/plain": [
       "                  id   vote_count  vote_average  release_year   revenue_adj\n",
       "count    6141.000000  6141.000000   6141.000000   6141.000000  6.141000e+03\n",
       "mean    59429.219508   371.784074      6.152288   2002.322912  8.836860e+07\n",
       "std     89054.082499   729.015102      0.818101     11.689026  1.833586e+08\n",
       "min         5.000000    30.000000      2.100000   1960.000000  0.000000e+00\n",
       "25%      9255.000000    53.000000      5.600000   1996.000000  0.000000e+00\n",
       "50%     13192.000000   116.000000      6.200000   2006.000000  1.702528e+07\n",
       "75%     71679.000000   333.000000      6.700000   2011.000000  9.436387e+07\n",
       "max    417859.000000  9767.000000      8.800000   2015.000000  2.827124e+09"
      ]
     },
     "execution_count": 24,
     "metadata": {},
     "output_type": "execute_result"
    }
   ],
   "source": [
    "df.describe()"
   ]
  },
  {
   "cell_type": "markdown",
   "metadata": {},
   "source": [
    "> It's pretty clear that at least half (50% percentile) of the movie rows' revenue_adj values are equal to zero (0.0). In order to make healthy analysis, we need rows with non-zero revenue_adj values. Therefore I will filter those with query function of pandas."
   ]
  },
  {
   "cell_type": "code",
   "execution_count": 25,
   "metadata": {
    "scrolled": true
   },
   "outputs": [
    {
     "name": "stdout",
     "output_type": "stream",
     "text": [
      "<class 'pandas.core.frame.DataFrame'>\n",
      "Int64Index: 4061 entries, 0 to 10848\n",
      "Data columns (total 7 columns):\n",
      "id                4061 non-null int64\n",
      "original_title    4061 non-null object\n",
      "genres            4061 non-null object\n",
      "vote_count        4061 non-null int64\n",
      "vote_average      4061 non-null float64\n",
      "release_year      4061 non-null int64\n",
      "revenue_adj       4061 non-null float64\n",
      "dtypes: float64(2), int64(3), object(2)\n",
      "memory usage: 253.8+ KB\n"
     ]
    }
   ],
   "source": [
    "# drop rows that have zero revenue_adj values\n",
    "df = df.query('revenue_adj > 0.0')\n",
    "df.info()"
   ]
  },
  {
   "cell_type": "code",
   "execution_count": 26,
   "metadata": {},
   "outputs": [
    {
     "data": {
      "text/html": [
       "<div>\n",
       "<style scoped>\n",
       "    .dataframe tbody tr th:only-of-type {\n",
       "        vertical-align: middle;\n",
       "    }\n",
       "\n",
       "    .dataframe tbody tr th {\n",
       "        vertical-align: top;\n",
       "    }\n",
       "\n",
       "    .dataframe thead th {\n",
       "        text-align: right;\n",
       "    }\n",
       "</style>\n",
       "<table border=\"1\" class=\"dataframe\">\n",
       "  <thead>\n",
       "    <tr style=\"text-align: right;\">\n",
       "      <th></th>\n",
       "      <th>id</th>\n",
       "      <th>vote_count</th>\n",
       "      <th>vote_average</th>\n",
       "      <th>release_year</th>\n",
       "      <th>revenue_adj</th>\n",
       "    </tr>\n",
       "  </thead>\n",
       "  <tbody>\n",
       "    <tr>\n",
       "      <th>count</th>\n",
       "      <td>4061.000000</td>\n",
       "      <td>4061.000000</td>\n",
       "      <td>4061.000000</td>\n",
       "      <td>4061.000000</td>\n",
       "      <td>4.061000e+03</td>\n",
       "    </tr>\n",
       "    <tr>\n",
       "      <th>mean</th>\n",
       "      <td>45855.132480</td>\n",
       "      <td>517.425265</td>\n",
       "      <td>6.214824</td>\n",
       "      <td>2001.832061</td>\n",
       "      <td>1.336300e+08</td>\n",
       "    </tr>\n",
       "    <tr>\n",
       "      <th>std</th>\n",
       "      <td>75012.460414</td>\n",
       "      <td>857.978306</td>\n",
       "      <td>0.767044</td>\n",
       "      <td>11.271411</td>\n",
       "      <td>2.116479e+08</td>\n",
       "    </tr>\n",
       "    <tr>\n",
       "      <th>min</th>\n",
       "      <td>5.000000</td>\n",
       "      <td>30.000000</td>\n",
       "      <td>3.300000</td>\n",
       "      <td>1960.000000</td>\n",
       "      <td>2.370705e+00</td>\n",
       "    </tr>\n",
       "    <tr>\n",
       "      <th>25%</th>\n",
       "      <td>6278.000000</td>\n",
       "      <td>82.000000</td>\n",
       "      <td>5.700000</td>\n",
       "      <td>1996.000000</td>\n",
       "      <td>1.780568e+07</td>\n",
       "    </tr>\n",
       "    <tr>\n",
       "      <th>50%</th>\n",
       "      <td>11217.000000</td>\n",
       "      <td>203.000000</td>\n",
       "      <td>6.200000</td>\n",
       "      <td>2005.000000</td>\n",
       "      <td>6.151774e+07</td>\n",
       "    </tr>\n",
       "    <tr>\n",
       "      <th>75%</th>\n",
       "      <td>48289.000000</td>\n",
       "      <td>549.000000</td>\n",
       "      <td>6.700000</td>\n",
       "      <td>2011.000000</td>\n",
       "      <td>1.583088e+08</td>\n",
       "    </tr>\n",
       "    <tr>\n",
       "      <th>max</th>\n",
       "      <td>417859.000000</td>\n",
       "      <td>9767.000000</td>\n",
       "      <td>8.400000</td>\n",
       "      <td>2015.000000</td>\n",
       "      <td>2.827124e+09</td>\n",
       "    </tr>\n",
       "  </tbody>\n",
       "</table>\n",
       "</div>"
      ],
      "text/plain": [
       "                  id   vote_count  vote_average  release_year   revenue_adj\n",
       "count    4061.000000  4061.000000   4061.000000   4061.000000  4.061000e+03\n",
       "mean    45855.132480   517.425265      6.214824   2001.832061  1.336300e+08\n",
       "std     75012.460414   857.978306      0.767044     11.271411  2.116479e+08\n",
       "min         5.000000    30.000000      3.300000   1960.000000  2.370705e+00\n",
       "25%      6278.000000    82.000000      5.700000   1996.000000  1.780568e+07\n",
       "50%     11217.000000   203.000000      6.200000   2005.000000  6.151774e+07\n",
       "75%     48289.000000   549.000000      6.700000   2011.000000  1.583088e+08\n",
       "max    417859.000000  9767.000000      8.400000   2015.000000  2.827124e+09"
      ]
     },
     "execution_count": 26,
     "metadata": {},
     "output_type": "execute_result"
    }
   ],
   "source": [
    "df.describe()"
   ]
  },
  {
   "cell_type": "markdown",
   "metadata": {},
   "source": [
    "> It's a good idea to split revenue_adj to 4 groups: 25% (very low), 50% (low), 75% (normal) and 100% (high), respectively (<a href=\"https://classroom.udacity.com/nanodegrees/nd002/parts/16904efb-1891-4822-ac1b-e6d74d746872/modules/cfb63a6e-56a3-4022-9d61-514f2f4759a8/lessons/77286f5a-b206-4807-aaa0-7ecfc690268e/concepts/988ab8a2-dd75-4b53-b1a4-628ff331f461\">Udacity source</a>):"
   ]
  },
  {
   "cell_type": "code",
   "execution_count": 27,
   "metadata": {},
   "outputs": [
    {
     "name": "stdout",
     "output_type": "stream",
     "text": [
      "6.1199999999999966\n",
      "6.085320197044329\n",
      "6.2079802955665055\n",
      "6.445767716535431\n"
     ]
    }
   ],
   "source": [
    "# split by percentiles\n",
    "percentiles = df.describe().loc[:, 'revenue_adj'].tail(4)\n",
    "first = df.query('revenue_adj < {}'.format(percentiles[0]))\n",
    "second = df.query('revenue_adj < {} & revenue_adj >= {}'.format(percentiles[1], percentiles[0]))\n",
    "third = df.query('revenue_adj < {} & revenue_adj >= {}'.format(percentiles[2], percentiles[1]))\n",
    "fourth = df.query('revenue_adj >= {}'.format(percentiles[2]))\n",
    "\n",
    "mean_quality_first = first['vote_average'].mean()\n",
    "mean_quality_second = second['vote_average'].mean()\n",
    "mean_quality_third = third['vote_average'].mean()\n",
    "mean_quality_fourth = fourth['vote_average'].mean()\n",
    "print(mean_quality_first)\n",
    "print(mean_quality_second)\n",
    "print(mean_quality_third)\n",
    "print(mean_quality_fourth)"
   ]
  },
  {
   "cell_type": "markdown",
   "metadata": {},
   "source": [
    "> We can now plot a chart to see the trend."
   ]
  },
  {
   "cell_type": "code",
   "execution_count": 28,
   "metadata": {},
   "outputs": [
    {
     "data": {
      "image/png": "[encoded data removed]",
      "text/plain": [
       "<matplotlib.figure.Figure at 0x7fcbbb11e0b8>"
      ]
     },
     "metadata": {},
     "output_type": "display_data"
    }
   ],
   "source": [
    "# Create a bar chart with proper labels\n",
    "locations = [1, 2, 3, 4]\n",
    "heights = [mean_quality_first, mean_quality_second, mean_quality_third, mean_quality_fourth]\n",
    "labels = ['Very Low', 'Low', 'Normal', 'High']\n",
    "plt.bar(locations, heights, tick_label=labels)\n",
    "plt.title('Movie Vote Averages by Revenue in Terms of 2010 Dollars')\n",
    "plt.xlabel('Revenues (in terms of 2010 dollars, accounting for inflation over time)')\n",
    "plt.ylabel('Movie Vote Average');"
   ]
  },
  {
   "cell_type": "markdown",
   "metadata": {},
   "source": [
    "<a id='conclusions'></a>\n",
    "## Conclusions\n",
    "\n",
    "##### 1. Which genres has the highest average of votes from year to year in 2000s?\n",
    "\n",
    "> We can see that in 2000s, \"documentary\" genre has the most vote_average count record by year to year, moreover, 12 times in 14 consecutive years (except 2004 and 2010). We can say that people vote higher points to documentary movies, when compared to movies with other genres.\n",
    ">\n",
    "> Another interesting point is that \"music\" genre came into prominence in year 2000, which has mean vote_average of 7.16.\n",
    ">\n",
    "> 10775 samples were included in this analysis, which is quite enough for single-genres movie-data since 2000. There were no significant missing values as the vote & genre related datas were all complete.\n",
    ">\n",
    "> Documentaries are types of movies where you need to perform a lot of research and show impressive effort. Of course the outcome of such productions pays that effort by having higher vote averages. Therefore this result was highly satisfactory.\n",
    "\n",
    "##### 2. Is there any relation between the movies' vote average and revenue in terms of 2010 dollars?\n",
    "> I tried to find a correlation between movie revenues in terms of 2010 dollars and its vote_average. Before making this exploration, my opinion was higher vote averages means higher revenues. I can say that I was right, because the highest vote_average mean belongs to the highest revenue percentile (after 75%), while the second one belongs to the second hisghest revenue percentile (after 50%).\n",
    ">\n",
    "> 4061 samples were included in this research, which is pretty low when compared to the sample set of the previous question. The main reason was that most of the movies in TMDb data had zero revenue_adj values. This caused an elimination of 2080 movie rows. But we can say that our analysis was pretty healthy as over 4000 samples is enough to give a clear image."
   ]
  },
  {
   "cell_type": "code",
   "execution_count": null,
   "metadata": {},
   "outputs": [],
   "source": []
  }
 ],
 "metadata": {
  "kernelspec": {
   "display_name": "Python [default]",
   "language": "python",
   "name": "python3"
  },
  "language_info": {
   "codemirror_mode": {
    "name": "ipython",
    "version": 3
   },
   "file_extension": ".py",
   "mimetype": "text/x-python",
   "name": "python",
   "nbconvert_exporter": "python",
   "pygments_lexer": "ipython3",
   "version": "3.6.4"
  }
 },
 "nbformat": 4,
 "nbformat_minor": 2
}
