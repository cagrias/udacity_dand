{
 "cells": [
  {
   "cell_type": "markdown",
   "metadata": {},
   "source": [
    "### Analyzing the Stroop Effect\n",
    "Perform the analysis in the space below. Remember to follow [the instructions](https://docs.google.com/document/d/1-OkpZLjG_kX9J6LIQ5IltsqMzVWjh36QpnP2RYpVdPU/pub?embedded=True) and review the [project rubric](https://review.udacity.com/#!/rubrics/71/view) before submitting. Once you've completed the analysis and write-up, download this file as a PDF or HTML file, upload that PDF/HTML into the workspace here (click on the orange Jupyter icon in the upper left then Upload), then use the Submit Project button at the bottom of this page. This will create a zip file containing both this .ipynb doc and the PDF/HTML doc that will be submitted for your project.\n",
    "\n",
    "\n",
    "(1) What is the independent variable? What is the dependent variable?"
   ]
  },
  {
   "cell_type": "markdown",
   "metadata": {},
   "source": [
    "> Independent variable: Congruent or incongruent words condition.\n",
    "\n",
    "> Dependant variable: The time it takes to complete the tests."
   ]
  },
  {
   "cell_type": "markdown",
   "metadata": {},
   "source": [
    "(2) What is an appropriate set of hypotheses for this task? Specify your null and alternative hypotheses, and clearly define any notation used. Justify your choices."
   ]
  },
  {
   "cell_type": "markdown",
   "metadata": {},
   "source": [
    "> **$H_{0}$**: **$p_{incogruent}$ = $p_{congruent}$** (Null hyphotheses)\n",
    "\n",
    "> **$H_{1}$**: **$p_{incogruent}$ ≠ $p_{congruent}$** (Alternative hyphotheses)\n",
    "\n",
    "\n",
    "> Null hyphothesis: People tend to spend the same amount of time for the congruent and incongruent conditions of Stroop Effect tests.\n",
    "\n",
    "> Alternative hyphothesis: It takes different amount of time for the people to solve the congruent and incongruent conditions of Stroop Effect tests."
   ]
  },
  {
   "cell_type": "code",
   "execution_count": 2,
   "metadata": {},
   "outputs": [
    {
     "name": "stdout",
     "output_type": "stream",
     "text": [
      "<class 'pandas.core.frame.DataFrame'>\n",
      "RangeIndex: 24 entries, 0 to 23\n",
      "Data columns (total 2 columns):\n",
      "Congruent      24 non-null float64\n",
      "Incongruent    24 non-null float64\n",
      "dtypes: float64(2)\n",
      "memory usage: 464.0 bytes\n"
     ]
    }
   ],
   "source": [
    "# Perform the analysis here\n",
    "import pandas as pd\n",
    "import numpy as np\n",
    "%matplotlib inline\n",
    "\n",
    "df = pd.read_csv(\"stroopdata.csv\")\n",
    "df.info()"
   ]
  },
  {
   "cell_type": "markdown",
   "metadata": {},
   "source": [
    "> As the sample size is below 30 and we do not know about the population standard deviation, it is better to choose t-test over z-test. Moreover, we apply t-test to see whether the differences of these two proportions are zero or not. As the variable we will be examining is a dependant one (the time it takes to complete the test depending on the test being congruent or incongruent, i.e. when there is only one sample that has been tested twice), we need to conduct a paired t-test (i.e. dependant t-test). We will use samples from the data to conduct the t-test.\n",
    "\n",
    "> As will be seen in Question-3, the means of the time took for both tests are quite different. Hence I expect the t-score would be a huge number (more than 5), which means there is a significant difference between these groups. Furthermore, I expect a p-value smaller than the Type I Error threshold, so that we can reject the null hypothesis."
   ]
  },
  {
   "cell_type": "markdown",
   "metadata": {},
   "source": [
    "(3) Report some descriptive statistics regarding this dataset. Include at least one measure of central tendency and at least one measure of variability. The name of the data file is 'stroopdata.csv'."
   ]
  },
  {
   "cell_type": "code",
   "execution_count": 3,
   "metadata": {},
   "outputs": [
    {
     "data": {
      "text/html": [
       "<div>\n",
       "<style scoped>\n",
       "    .dataframe tbody tr th:only-of-type {\n",
       "        vertical-align: middle;\n",
       "    }\n",
       "\n",
       "    .dataframe tbody tr th {\n",
       "        vertical-align: top;\n",
       "    }\n",
       "\n",
       "    .dataframe thead th {\n",
       "        text-align: right;\n",
       "    }\n",
       "</style>\n",
       "<table border=\"1\" class=\"dataframe\">\n",
       "  <thead>\n",
       "    <tr style=\"text-align: right;\">\n",
       "      <th></th>\n",
       "      <th>Congruent</th>\n",
       "      <th>Incongruent</th>\n",
       "    </tr>\n",
       "  </thead>\n",
       "  <tbody>\n",
       "    <tr>\n",
       "      <th>0</th>\n",
       "      <td>12.079</td>\n",
       "      <td>19.278</td>\n",
       "    </tr>\n",
       "    <tr>\n",
       "      <th>1</th>\n",
       "      <td>16.791</td>\n",
       "      <td>18.741</td>\n",
       "    </tr>\n",
       "    <tr>\n",
       "      <th>2</th>\n",
       "      <td>9.564</td>\n",
       "      <td>21.214</td>\n",
       "    </tr>\n",
       "    <tr>\n",
       "      <th>3</th>\n",
       "      <td>8.630</td>\n",
       "      <td>15.687</td>\n",
       "    </tr>\n",
       "    <tr>\n",
       "      <th>4</th>\n",
       "      <td>14.669</td>\n",
       "      <td>22.803</td>\n",
       "    </tr>\n",
       "  </tbody>\n",
       "</table>\n",
       "</div>"
      ],
      "text/plain": [
       "   Congruent  Incongruent\n",
       "0     12.079       19.278\n",
       "1     16.791       18.741\n",
       "2      9.564       21.214\n",
       "3      8.630       15.687\n",
       "4     14.669       22.803"
      ]
     },
     "execution_count": 3,
     "metadata": {},
     "output_type": "execute_result"
    }
   ],
   "source": [
    "df.head()"
   ]
  },
  {
   "cell_type": "code",
   "execution_count": 4,
   "metadata": {},
   "outputs": [
    {
     "name": "stdout",
     "output_type": "stream",
     "text": [
      "Congrugent condition mean time: 14.051125000000004\n",
      "Congrugent condition std dev: 3.559357957645195\n",
      "------------------\n",
      "Incongrugent condition mean time: 22.01591666666667\n",
      "Incongrugent condition std dev: 4.797057122469138\n",
      "------------------\n",
      "Observed difference mean time: -7.964791666666665\n"
     ]
    }
   ],
   "source": [
    "print(\"Congrugent condition mean time: \" + str(df.Congruent.mean()))\n",
    "print(\"Congrugent condition std dev: \" + str(df.Congruent.std(ddof=1)))\n",
    "print(\"------------------\")\n",
    "print(\"Incongrugent condition mean time: \" + str(df.Incongruent.mean()))\n",
    "print(\"Incongrugent condition std dev: \" + str(df.Incongruent.std(ddof=1)))\n",
    "print(\"------------------\")\n",
    "print(\"Observed difference mean time: \" + str(df.Congruent.mean()-df.Incongruent.mean()))"
   ]
  },
  {
   "cell_type": "markdown",
   "metadata": {},
   "source": [
    "(4) Provide one or two visualizations that show the distribution of the sample data. Write one or two sentences noting what you observe about the plot or plots."
   ]
  },
  {
   "cell_type": "code",
   "execution_count": 5,
   "metadata": {
    "scrolled": true
   },
   "outputs": [
    {
     "data": {
      "image/png": "[encoded data removed]",
      "text/plain": [
       "<matplotlib.figure.Figure at 0x7fa0b468ae80>"
      ]
     },
     "metadata": {},
     "output_type": "display_data"
    }
   ],
   "source": [
    "df.Congruent.hist();"
   ]
  },
  {
   "cell_type": "code",
   "execution_count": 6,
   "metadata": {},
   "outputs": [
    {
     "data": {
      "image/png": "[encoded data removed]",
      "text/plain": [
       "<matplotlib.figure.Figure at 0x7fa0881b4748>"
      ]
     },
     "metadata": {},
     "output_type": "display_data"
    }
   ],
   "source": [
    "df.Incongruent.hist();"
   ]
  },
  {
   "cell_type": "markdown",
   "metadata": {},
   "source": [
    "> Comparing the histograms for the average time of the test for the congruent and incongruent data, it's easy to observe that time took to complete the congruent tests are mostly less when compared to that of incongruent tests.\n",
    "\n",
    ">> We cant really say that the distribution for the congruent test results is normal, but maybe right skewed. \n",
    "\n",
    ">> Except some outliers, the distribution for the incongruent tests seems normal."
   ]
  },
  {
   "cell_type": "markdown",
   "metadata": {},
   "source": [
    "(5)  Now, perform the statistical test and report your results. What is your confidence level or Type I error associated with your test? What is your conclusion regarding the hypotheses you set up? Did the results match up with your expectations? **Hint:**  Think about what is being measured on each individual, and what statistic best captures how an individual reacts in each environment."
   ]
  },
  {
   "cell_type": "code",
   "execution_count": 7,
   "metadata": {
    "scrolled": false
   },
   "outputs": [
    {
     "name": "stdout",
     "output_type": "stream",
     "text": [
      "<class 'pandas.core.frame.DataFrame'>\n",
      "RangeIndex: 24 entries, 0 to 23\n",
      "Data columns (total 2 columns):\n",
      "Congruent      24 non-null float64\n",
      "Incongruent    24 non-null float64\n",
      "dtypes: float64(2)\n",
      "memory usage: 464.0 bytes\n"
     ]
    }
   ],
   "source": [
    "# Applying t-test\n",
    "df.info()"
   ]
  },
  {
   "cell_type": "code",
   "execution_count": 8,
   "metadata": {},
   "outputs": [
    {
     "name": "stdout",
     "output_type": "stream",
     "text": [
      "t-statistics: -8.02071\n",
      "p-value: 0.000000041030006\n"
     ]
    }
   ],
   "source": [
    "import scipy.stats as stats\n",
    "\n",
    "cong = df.Congruent.values.tolist()\n",
    "incong = df.Incongruent.values.tolist()\n",
    "\n",
    "# Perform ttest\n",
    "result = stats.ttest_rel(cong,incong)\n",
    "\n",
    "print(\"t-statistics: {0:.5f}\".format(result.statistic))\n",
    "print(\"p-value: {0:.15f}\".format(result.pvalue))"
   ]
  },
  {
   "cell_type": "markdown",
   "metadata": {},
   "source": [
    "> As the data we have is dependant (there is only one sample that has been tested twice), I have chosen a two-related (paired) t-test (ttest_rel of scipy).\n",
    "\n",
    "> We have found a t-score of 8.02071, which is very high and enough to thell that these two groups are different.\n",
    "\n",
    "> When compared to a 5% Type I error threshold, our p-value (0.000000041) is a lot less than this value, which helps us to reject the null hyphothesis and accept the alternative hyphothesis.\n",
    "\n",
    "> These results indicate that our data is statistically significant.\n",
    "\n",
    "> As my own Stroop test also resulted congruent condition time is being less than the incongruent time, I was expecting these results. "
   ]
  },
  {
   "cell_type": "markdown",
   "metadata": {},
   "source": [
    "(6) Optional: What do you think is responsible for the effects observed? Can you think of an alternative or similar task that would result in a similar effect? Some research about the problem will be helpful for thinking about these two questions!"
   ]
  },
  {
   "cell_type": "markdown",
   "metadata": {},
   "source": [
    "--write answer here--"
   ]
  },
  {
   "cell_type": "markdown",
   "metadata": {},
   "source": [
    "<h2> Reference Links </h2>\n",
    "\n",
    "* http://www.statisticshowto.com/probability-and-statistics/t-test/\n",
    "\n",
    "* https://docs.scipy.org/doc/scipy/reference/generated/scipy.stats.ttest_rel.html\n",
    "\n",
    "* https://en.wikipedia.org/wiki/Student%27s_t-test\n",
    "\n",
    "* http://www.statisticshowto.com/probability-and-statistics/hypothesis-testing/t-score-vs-z-score/"
   ]
  },
  {
   "cell_type": "code",
   "execution_count": null,
   "metadata": {},
   "outputs": [],
   "source": []
  }
 ],
 "metadata": {
  "kernelspec": {
   "display_name": "Python [default]",
   "language": "python",
   "name": "python3"
  },
  "language_info": {
   "codemirror_mode": {
    "name": "ipython",
    "version": 3
   },
   "file_extension": ".py",
   "mimetype": "text/x-python",
   "name": "python",
   "nbconvert_exporter": "python",
   "pygments_lexer": "ipython3",
   "version": "3.6.4"
  }
 },
 "nbformat": 4,
 "nbformat_minor": 2
}
